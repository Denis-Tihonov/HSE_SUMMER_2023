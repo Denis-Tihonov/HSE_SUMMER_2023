{
  "cells": [
    {
      "cell_type": "markdown",
      "metadata": {
        "id": "RCk6mRSOgrBI"
      },
      "source": [
        "# Домашнее задание: дообучение нейросети\n",
        "\n"
      ]
    },
    {
      "cell_type": "markdown",
      "metadata": {
        "id": "AESJHXD8guUO"
      },
      "source": [
        "Привет!\n",
        "\n",
        "В этом домашнем задании вам предстоит самим дообучить сеть на новом датасете для классификации.  \n",
        "\n",
        "В последнем практическом занятии этого модуля мы решали задачу классификации кошек и собак с помощью предобученной на ImageNet сети. На самом деле, это не совсем честно, потому что среди классов ImageNet наверняка есть классы \"кошка\" и \"собака\", и сеть, обученная на ImageNet и без дообучения может классифицировать кошек и собак.\n",
        "Поэтому в домашнем задании мы возьмем датасет фотографий Intel Image Classification (https://www.kaggle.com/puneet6060/intel-image-classification) природы."
      ]
    },
    {
      "cell_type": "markdown",
      "metadata": {
        "id": "yRbg6UplwE1P"
      },
      "source": [
        "## 1. Загрузка датасета\n"
      ]
    },
    {
      "cell_type": "markdown",
      "metadata": {
        "id": "thYHVy64UeYp"
      },
      "source": [
        "Для загрузки датасета из интернета воспользуемся командами bash. Bash -- язык командной строки linux. В ячейках jupyter notebook можно запускать команды bash, предварительно написав ! в начале ячейки."
      ]
    },
    {
      "cell_type": "code",
      "execution_count": 60,
      "metadata": {
        "id": "DBk5jYyBer-u"
      },
      "outputs": [],
      "source": [
        "# Если работаем в колабе\n",
        "# команда curl скачивает файлы из интернета по ссылке (с нужными куками если требуется)\n",
        "!curl -o data_conv.zip -L 'https://drive.google.com/uc?export=download&confirm=yes&id=1xVwcI1wrov8emaj4ObA5aing3cSJUgCW'\n",
        "# команда unzip разархивирует zip-архив\n",
        "! unzip  -q data_conv.zip"
      ]
    },
    {
      "cell_type": "code",
      "source": [
        "import warnings # возьмем чтобы не спамили ворнинги нам\n",
        "warnings.filterwarnings(\"ignore\")"
      ],
      "metadata": {
        "id": "K72PUb-FCK4y"
      },
      "execution_count": 61,
      "outputs": []
    },
    {
      "cell_type": "code",
      "execution_count": 62,
      "metadata": {
        "id": "mPlNFxeSopNm"
      },
      "outputs": [],
      "source": [
        "import numpy as np\n",
        "from tqdm import tqdm\n",
        "from tqdm import tqdm_notebook\n",
        "import matplotlib.pyplot as plt\n",
        "%matplotlib inline\n",
        "\n",
        "# модули библиотеки PyTorch\n",
        "import torch\n",
        "from torchvision import datasets, transforms\n",
        "# метрика качества\n",
        "from sklearn.metrics import accuracy_score"
      ]
    },
    {
      "cell_type": "code",
      "source": [
        "# !watch -n 5 nvidia-smi"
      ],
      "metadata": {
        "id": "yxGcqf_1e66M"
      },
      "execution_count": 63,
      "outputs": []
    },
    {
      "cell_type": "markdown",
      "metadata": {
        "id": "2yxCulXbqrZg"
      },
      "source": [
        "## Задание 1 (0 баллов)"
      ]
    },
    {
      "cell_type": "markdown",
      "metadata": {
        "id": "0NLXumoxqvQG"
      },
      "source": [
        "Как обычно, начнем с загрузки даатсета в пайторч с помощью ImageFolder.\n",
        "\n",
        "Для начала объявим трансформации.\n",
        "\n",
        "Объявите трансформации для тренировочного и тестового датасета:\n",
        "\n",
        "*   перевод картинки в тензор\n",
        "*   нормализация с mean=[0.485, 0.456, 0.406] и std=[0.229, 0.224, 0.225]\n",
        "\n",
        "\n",
        "Resize делать не надо! Все картинки этого датасета уже приведены к одному форматц 150*150"
      ]
    },
    {
      "cell_type": "code",
      "execution_count": 64,
      "metadata": {
        "id": "r1lInvOzer-w"
      },
      "outputs": [],
      "source": [
        "normalize = transforms.Normalize(\n",
        "    mean=[0.485, 0.456, 0.406],\n",
        "    std=[0.229, 0.224, 0.225])"
      ]
    },
    {
      "cell_type": "code",
      "execution_count": 65,
      "metadata": {
        "id": "amd35avcp7nI"
      },
      "outputs": [],
      "source": [
        "\n",
        "transform_train = transforms.Compose([\n",
        "    transforms.ToTensor(),\n",
        "    transforms.Resize([150,150]),\n",
        "    transforms.Normalize(mean=[0.485, 0.456, 0.406],\n",
        "                         std=[0.229, 0.224, 0.225])\n",
        "\n",
        "         # YOUR CODE\n",
        "])\n",
        "\n",
        "transform_val = transforms.Compose([\n",
        "        transforms.ToTensor(),\n",
        "        transforms.Resize([150,150]),\n",
        "        transforms.Normalize(mean=[0.485, 0.456, 0.406],\n",
        "                     std=[0.229, 0.224, 0.225])\n",
        "])"
      ]
    },
    {
      "cell_type": "markdown",
      "metadata": {
        "id": "5lWLYwvyrV3G"
      },
      "source": [
        "И теперь объявим датасеты:"
      ]
    },
    {
      "cell_type": "code",
      "execution_count": 66,
      "metadata": {
        "id": "FpZ8m6Ahz12m"
      },
      "outputs": [],
      "source": [
        "train_data = datasets.ImageFolder(\"data_conv/seg_train\",\n",
        "                                  transform=transform_train)\n",
        "test_data = datasets.ImageFolder(\"data_conv/seg_test\",\n",
        "                                 transform=transform_val)"
      ]
    },
    {
      "cell_type": "code",
      "execution_count": 67,
      "metadata": {
        "id": "HJBx8nVmpcwT",
        "colab": {
          "base_uri": "https://localhost:8080/"
        },
        "outputId": "7ce6120e-a722-4dc2-e3f0-7ff668319ba1"
      },
      "outputs": [
        {
          "output_type": "execute_result",
          "data": {
            "text/plain": [
              "Dataset ImageFolder\n",
              "    Number of datapoints: 14034\n",
              "    Root location: data_conv/seg_train\n",
              "    StandardTransform\n",
              "Transform: Compose(\n",
              "               ToTensor()\n",
              "               Resize(size=[150, 150], interpolation=bilinear, max_size=None, antialias=warn)\n",
              "               Normalize(mean=[0.485, 0.456, 0.406], std=[0.229, 0.224, 0.225])\n",
              "           )"
            ]
          },
          "metadata": {},
          "execution_count": 67
        }
      ],
      "source": [
        "train_data"
      ]
    },
    {
      "cell_type": "markdown",
      "metadata": {
        "id": "509LjGAmrc4T"
      },
      "source": [
        "Объявите даталоадеры. Помните, что для тренировочного даталоадера важно перемешивать данные, для тестового -- неважно. Батч сайз возьмите проивзольный. Но не берите слишком маленький, будете долго ждать обучения сети."
      ]
    },
    {
      "cell_type": "code",
      "execution_count": 68,
      "metadata": {
        "id": "JVodhaPv5TZj"
      },
      "outputs": [],
      "source": [
        "BATCH_SIZE = 32\n",
        "train_loader = torch.utils.data.DataLoader(\n",
        "    train_data, batch_size=BATCH_SIZE,\n",
        "     shuffle=True) # YOUR CODE\n",
        "test_loader = torch.utils.data.DataLoader(\n",
        "    test_data, batch_size=BATCH_SIZE)# YOUR CODE"
      ]
    },
    {
      "cell_type": "markdown",
      "metadata": {
        "id": "6gdhjhDZrsRy"
      },
      "source": [
        "Отлично! Теперь давайте посмотрим на примеры картинок из датасета, и заодно проверим, что вы объявили даталоадеры верно."
      ]
    },
    {
      "cell_type": "code",
      "source": [
        "a = range(10)"
      ],
      "metadata": {
        "id": "-9RyjhGhf1Ik"
      },
      "execution_count": 69,
      "outputs": []
    },
    {
      "cell_type": "code",
      "execution_count": 70,
      "metadata": {
        "id": "KPpEqQVs5p8q"
      },
      "outputs": [],
      "source": [
        "dataiter = iter(train_loader)\n",
        "# батч картинок и батч ответов к картинкам\n",
        "# images, labels = dataiter.next"
      ]
    },
    {
      "cell_type": "code",
      "source": [
        "dataiter = iter(train_loader)\n",
        "for images, labels in dataiter:\n",
        "  break"
      ],
      "metadata": {
        "id": "48QC74bcfhz8"
      },
      "execution_count": 71,
      "outputs": []
    },
    {
      "cell_type": "code",
      "execution_count": 72,
      "metadata": {
        "id": "PthxxQ655xCC",
        "colab": {
          "base_uri": "https://localhost:8080/"
        },
        "outputId": "59fef6d2-b3a4-4095-8d24-63931d1519cf"
      },
      "outputs": [
        {
          "output_type": "execute_result",
          "data": {
            "text/plain": [
              "(torch.Size([32, 3, 150, 150]), torch.Size([32]))"
            ]
          },
          "metadata": {},
          "execution_count": 72
        }
      ],
      "source": [
        "images.shape, labels.shape"
      ]
    },
    {
      "cell_type": "code",
      "execution_count": 73,
      "metadata": {
        "id": "rRymLngier-0",
        "outputId": "2d4716c1-44fb-42e6-a909-5886269b269f",
        "colab": {
          "base_uri": "https://localhost:8080/"
        }
      },
      "outputs": [
        {
          "output_type": "execute_result",
          "data": {
            "text/plain": [
              "tensor([4, 5, 1, 3, 0, 5, 0, 2, 2, 2, 4, 2, 3, 1, 4, 3, 5, 2, 0, 4, 2, 2, 5, 0,\n",
              "        5, 4, 5, 4, 4, 3, 0, 0])"
            ]
          },
          "metadata": {},
          "execution_count": 73
        }
      ],
      "source": [
        "labels"
      ]
    },
    {
      "cell_type": "code",
      "source": [
        "for test_image in test_loader:\n",
        "  break"
      ],
      "metadata": {
        "id": "rjLHQY7JgWmH"
      },
      "execution_count": 74,
      "outputs": []
    },
    {
      "cell_type": "code",
      "source": [
        "test_image[0].shape"
      ],
      "metadata": {
        "colab": {
          "base_uri": "https://localhost:8080/"
        },
        "id": "AFM_V-kVgbeA",
        "outputId": "8fe1f455-2214-4524-bcd1-057adc71f015"
      },
      "execution_count": 75,
      "outputs": [
        {
          "output_type": "execute_result",
          "data": {
            "text/plain": [
              "torch.Size([32, 3, 150, 150])"
            ]
          },
          "metadata": {},
          "execution_count": 75
        }
      ]
    },
    {
      "cell_type": "code",
      "execution_count": 76,
      "metadata": {
        "id": "kiSYOg5M35S3",
        "colab": {
          "base_uri": "https://localhost:8080/",
          "height": 331
        },
        "outputId": "27b8bf45-55fb-4867-a132-89f66f1f37dd"
      },
      "outputs": [
        {
          "output_type": "stream",
          "name": "stderr",
          "text": [
            "WARNING:matplotlib.image:Clipping input data to the valid range for imshow with RGB data ([0..1] for floats or [0..255] for integers).\n",
            "WARNING:matplotlib.image:Clipping input data to the valid range for imshow with RGB data ([0..1] for floats or [0..255] for integers).\n",
            "WARNING:matplotlib.image:Clipping input data to the valid range for imshow with RGB data ([0..1] for floats or [0..255] for integers).\n",
            "WARNING:matplotlib.image:Clipping input data to the valid range for imshow with RGB data ([0..1] for floats or [0..255] for integers).\n",
            "WARNING:matplotlib.image:Clipping input data to the valid range for imshow with RGB data ([0..1] for floats or [0..255] for integers).\n",
            "WARNING:matplotlib.image:Clipping input data to the valid range for imshow with RGB data ([0..1] for floats or [0..255] for integers).\n",
            "WARNING:matplotlib.image:Clipping input data to the valid range for imshow with RGB data ([0..1] for floats or [0..255] for integers).\n",
            "WARNING:matplotlib.image:Clipping input data to the valid range for imshow with RGB data ([0..1] for floats or [0..255] for integers).\n",
            "WARNING:matplotlib.image:Clipping input data to the valid range for imshow with RGB data ([0..1] for floats or [0..255] for integers).\n",
            "WARNING:matplotlib.image:Clipping input data to the valid range for imshow with RGB data ([0..1] for floats or [0..255] for integers).\n"
          ]
        },
        {
          "output_type": "display_data",
          "data": {
            "text/plain": [
              "<Figure size 3000x500 with 10 Axes>"
            ],
            "image/png": "[encoded data removed]"
          },
          "metadata": {}
        }
      ],
      "source": [
        "def show_imgs(imgs, labels):\n",
        "    f, axes= plt.subplots(1, 10, figsize=(30,5))\n",
        "    for i, axis in enumerate(axes):\n",
        "        axes[i].imshow(np.squeeze(np.transpose(imgs[i].numpy(),\n",
        "                                               (1, 2, 0))),\n",
        "                       cmap='gray')\n",
        "        axes[i].set_title(labels[i].numpy())\n",
        "    plt.show()\n",
        "\n",
        "show_imgs(images, labels)\n"
      ]
    },
    {
      "cell_type": "markdown",
      "metadata": {
        "id": "UOWAkb6On3V6"
      },
      "source": [
        "Импортируем нужные модули для обучения сети:"
      ]
    },
    {
      "cell_type": "code",
      "execution_count": 77,
      "metadata": {
        "id": "kM9AM2p7OhNd"
      },
      "outputs": [],
      "source": [
        "# модуль, где определены слои для нейронных сетей\n",
        "import torch.nn as nn\n",
        "# модуль, где определены активации для слоев нейронных сетей\n",
        "import torch.nn.functional as F"
      ]
    },
    {
      "cell_type": "markdown",
      "metadata": {
        "id": "quEVWS0Dw9G6"
      },
      "source": [
        "## Задание 2. Обучение сети с нуля. (4 балла код + 1 балл вывод)"
      ]
    },
    {
      "cell_type": "markdown",
      "metadata": {
        "id": "4jOthZsEUmsI"
      },
      "source": [
        "Построим сверточную нейронную сеть, обучим ее и посчитаем метрику accuracy на тестовой выборке.\n",
        "\n",
        "Так как в этом датасете картинки разрешения 150*150 -- больше, чем разрешение картинок из датасета с практического занятия -- то давайте построим сеть с тремя сверточными слоями и двумя макспуллингами."
      ]
    },
    {
      "cell_type": "code",
      "execution_count": 78,
      "metadata": {
        "id": "2_fsjuQdUtmz"
      },
      "outputs": [],
      "source": [
        "# класс для удобного перевода картинки из двумерного объекта в вектор\n",
        "class Flatten(nn.Module):\n",
        "    def forward(self, input):\n",
        "        return input.view(input.size(0), -1)\n",
        "\n",
        "class ConvNet(nn.Module):\n",
        "    def __init__(self):\n",
        "        super().__init__()\n",
        "\n",
        "        self.Conv1 = nn.Conv2d(in_channels=3,\n",
        "                               out_channels=5,\n",
        "                              kernel_size=(3,3)\n",
        "                          )\n",
        "        self.Max_pol = nn.MaxPool2d(kernel_size=(2,2))\n",
        "        self.Conv2 = nn.Conv2d(in_channels=5,\n",
        "                               out_channels=4,\n",
        "                              kernel_size=(3,3))\n",
        "        self.Max_pol_2 = nn.MaxPool2d(kernel_size=(2,2))\n",
        "        self.Conv3 = nn.Conv2d(in_channels=4,\n",
        "                               out_channels=3,\n",
        "                              kernel_size=(3,3))\n",
        "\n",
        "        self.liniar_1 = nn.Linear(in_features = 3468,\n",
        "                                  out_features = 256)\n",
        "        self.liniar_2 = nn.Linear(in_features = 256,\n",
        "                                  out_features = 6)\n",
        "\n",
        "\n",
        "\n",
        "\n",
        "        # объявите слои: Conv-MaxPool-Conv-MaxPool-Conv.\n",
        "        # Первый conv слой с 5 ядрами, второй -- с 4, третий -- с 3.\n",
        "        # MaxPool оба с параметрами (2, 2)\n",
        "\n",
        "        # YOUR CODE\n",
        "\n",
        "        # после этого объявите два полносвязных слоя:\n",
        "#         первый с 256 нейронами,\n",
        "        # второй -- с 6 (выходной слой, 6 -- количество классов в датасете)\n",
        "        # ВАЖНО! вам предстоит узнать, какое количество нейронов будет в первом\n",
        "        # полносвязном слое после растягивания карт активации в вектор (Linear(?, 256))\n",
        "        # проще всего это узнать, запустив обучение сети и посмотрев на текст ошибки:\n",
        "        # в нем будет указано, сколько нейронов ожидается в линейном слое.\n",
        "        # P.S. не забудтье Flatten!\n",
        "\n",
        "        # YOUR CODE\n",
        "\n",
        "    def forward(self, x):\n",
        "        x = self.Conv1(x)\n",
        "        x = nn.ReLU()(x)\n",
        "        x = self.Max_pol(x)\n",
        "        x = self.Conv2(x)\n",
        "        x = nn.ReLU()(x)\n",
        "        x = self.Max_pol_2(x)\n",
        "        x = self.Conv3(x)\n",
        "        x = nn.ReLU()(x)\n",
        "        x = nn.Flatten()(x)\n",
        "        x = self.liniar_1(x)\n",
        "        x = nn.ReLU()(x)\n",
        "        x = self.liniar_2(x)\n",
        "        x = nn.Softmax()(x)\n",
        "\n",
        "        # forward pass сети\n",
        "        # напишите forward pass сети, используйте relu\n",
        "        # в качестве промеждуточных активаций и softmax\n",
        "        # в качестве активации последнего слоя\n",
        "\n",
        "        return x"
      ]
    },
    {
      "cell_type": "code",
      "source": [
        "# класс для удобного перевода картинки из двумерного объекта в вектор\n",
        "class Flatten(nn.Module):\n",
        "    def forward(self, input):\n",
        "        return input.view(input.size(0), -1)\n",
        "\n",
        "class ConvNet(nn.Module):\n",
        "    def __init__(self):\n",
        "        super().__init__()\n",
        "\n",
        "        self.Conv1 = nn.Conv2d(in_channels=3,\n",
        "                               out_channels=5,\n",
        "                              kernel_size=(3,3)\n",
        "                          )\n",
        "        self.Max_pol = nn.MaxPool2d(kernel_size=(2,2))\n",
        "        self.Conv2 = nn.Conv2d(in_channels=5,\n",
        "                               out_channels=4,\n",
        "                              kernel_size=(3,3))\n",
        "        self.Max_pol_2 = nn.MaxPool2d(kernel_size=(2,2))\n",
        "        self.Conv3 = nn.Conv2d(in_channels=4,\n",
        "                               out_channels=3,\n",
        "                              kernel_size=(3,3))\n",
        "\n",
        "        self.liniar_1 = nn.Linear(in_features = 3468,\n",
        "                                  out_features = 256)\n",
        "        self.liniar_2 = nn.Linear(in_features = 256,\n",
        "                                  out_features = 6)\n",
        "\n",
        "        self.conv_part = torch.nn.Sequential(\n",
        "            self.Conv1,\n",
        "            nn.ReLU(),\n",
        "            self.Max_pol,\n",
        "            self.Conv2,\n",
        "            nn.ReLU(),\n",
        "            self.Max_pol_2,\n",
        "            self.Conv3,\n",
        "            nn.ReLU())\n",
        "\n",
        "        self.classifire = torch.nn.Sequential(\n",
        "          nn.Flatten(),\n",
        "          self.liniar_1,\n",
        "          nn.ReLU(),\n",
        "          self.liniar_2,\n",
        "          nn.Softmax())\n",
        "        # объявите слои: Conv-MaxPool-Conv-MaxPool-Conv.\n",
        "        # Первый conv слой с 5 ядрами, второй -- с 4, третий -- с 3.\n",
        "        # MaxPool оба с параметрами (2, 2)\n",
        "\n",
        "        # YOUR CODE\n",
        "\n",
        "        # после этого объявите два полносвязных слоя:\n",
        "#         первый с 256 нейронами,\n",
        "        # второй -- с 6 (выходной слой, 6 -- количество классов в датасете)\n",
        "        # ВАЖНО! вам предстоит узнать, какое количество нейронов будет в первом\n",
        "        # полносвязном слое после растягивания карт активации в вектор (Linear(?, 256))\n",
        "        # проще всего это узнать, запустив обучение сети и посмотрев на текст ошибки:\n",
        "        # в нем будет указано, сколько нейронов ожидается в линейном слое.\n",
        "        # P.S. не забудтье Flatten!\n",
        "\n",
        "        # YOUR CODE\n",
        "\n",
        "    def forward(self, x):\n",
        "      x = self.conv_part(x)\n",
        "      x = self.classifire(x)\n",
        "        # forward pass сети\n",
        "        # напишите forward pass сети, используйте relu\n",
        "        # в качестве промеждуточных активаций и softmax\n",
        "        # в качестве активации последнего слоя\n",
        "\n",
        "      return x"
      ],
      "metadata": {
        "id": "AqjdoJemisVr"
      },
      "execution_count": 79,
      "outputs": []
    },
    {
      "cell_type": "code",
      "execution_count": 80,
      "metadata": {
        "id": "NQrpwXqIer-5"
      },
      "outputs": [],
      "source": [
        "conv_net = ConvNet()"
      ]
    },
    {
      "cell_type": "code",
      "source": [
        "conv_net.Conv1"
      ],
      "metadata": {
        "colab": {
          "base_uri": "https://localhost:8080/"
        },
        "id": "qBVLMtMyjPPE",
        "outputId": "761249fc-16ad-4024-9a0f-53a84dbe276c"
      },
      "execution_count": 81,
      "outputs": [
        {
          "output_type": "execute_result",
          "data": {
            "text/plain": [
              "Conv2d(3, 5, kernel_size=(3, 3), stride=(1, 1))"
            ]
          },
          "metadata": {},
          "execution_count": 81
        }
      ]
    },
    {
      "cell_type": "code",
      "execution_count": 82,
      "metadata": {
        "id": "fhgXuRFyer-5"
      },
      "outputs": [],
      "source": [
        "conv_images = conv_net(images)\n",
        "# conv_net.forward(images)"
      ]
    },
    {
      "cell_type": "code",
      "source": [
        "# conv_images"
      ],
      "metadata": {
        "id": "jm6LV0Hbh0di"
      },
      "execution_count": 83,
      "outputs": []
    },
    {
      "cell_type": "markdown",
      "metadata": {
        "id": "FkafyUQ9On_q"
      },
      "source": [
        "Тут, как обычно, функция обучения сети:"
      ]
    },
    {
      "cell_type": "code",
      "execution_count": 84,
      "metadata": {
        "id": "MUXLCmBx0ut1"
      },
      "outputs": [],
      "source": [
        "def train(net, n_epoch=5):\n",
        "    # выбираем функцию потерь\n",
        "    loss_fn = torch.nn.CrossEntropyLoss()\n",
        "\n",
        "    # выбираем алгоритм оптимизации и learning_rate\n",
        "    learning_rate = 1e-3\n",
        "    optimizer = torch.optim.Adam(net.parameters(), lr=learning_rate)\n",
        "\n",
        "  # обучаем сеть 5 эпохи\n",
        "    for epoch in tqdm_notebook(range(n_epoch)):\n",
        "\n",
        "        running_loss = 0.0\n",
        "        train_dataiter = iter(train_loader)\n",
        "        for i, batch in enumerate(tqdm_notebook(train_dataiter)):\n",
        "            # так получаем текущий батч\n",
        "            X_batch, y_batch = batch\n",
        "\n",
        "            # обнуляем градиенты\n",
        "            optimizer.zero_grad()\n",
        "\n",
        "            # forward pass (получение ответов на батч картинок)\n",
        "            y_pred = net(X_batch)\n",
        "            # вычисление лосса от выданных сетью ответов и правильных ответов на батч\n",
        "            loss = loss_fn(y_pred, y_batch)\n",
        "            # bsckpropagation (вычисление градиентов)\n",
        "            loss.backward()\n",
        "            # обновление весов сети\n",
        "            optimizer.step()\n",
        "\n",
        "            # выведем текущий loss\n",
        "            running_loss += loss.item()\n",
        "            # выведем качество каждые 500 батчей\n",
        "            if i % 10 == 9:\n",
        "                print('[%d, %5d] loss: %.3f, acc: %3f' %\n",
        "                    (epoch + 1, i + 1, running_loss / 500,\n",
        "                     accuracy_score(y_batch.numpy(),\n",
        "                                    np.argmax(y_pred.detach().numpy(),\n",
        "                                              axis=1))))\n",
        "            running_loss = 0.0\n",
        "\n",
        "        print('Обучение закончено')\n",
        "        return net"
      ]
    },
    {
      "cell_type": "code",
      "execution_count": 85,
      "metadata": {
        "id": "KSyG2GinN2fu",
        "colab": {
          "base_uri": "https://localhost:8080/",
          "height": 889,
          "referenced_widgets": [
            "9a9ed6641f6d4563bc5c422500301760",
            "5903b240f8054d92811440166932d054",
            "86541a3ed9da40d7a73c5aa7ef2aa370",
            "5943e06194a84e0aa6418e20932e0b4e",
            "16ed643e2fc54a3194cbeb8a3fc9453a",
            "485355a742db4310afe3e2f7c50ada6a",
            "e2542343739746dfa9049b3ceff2c36c",
            "1aec907b38e54a77aaf69e14e36109ef",
            "90594cb285e94c71819a6cd40fba0529",
            "dd6145d1a582489981d78381c34bf36b",
            "08546918820f410caa58b69ca9f5bff5",
            "cae9489336fc464fa1cf5ca7455631c2",
            "f95753a43cb04326a3520b573545405e",
            "3efbb6195f164a80a3285a027c7157a7",
            "a6b53effa93f487eae8c6c83a62997b4",
            "4451fc38d9b84d4f81d717753afb1acb",
            "53476ab0d88648859ffb43e4ab1d8bc9",
            "bc0e3a9d3fd247a7aeb0fbc91453d8a9",
            "474e1581fd544af89d73c5a38c216b9f",
            "4c1a557940a6496ea999fbb6822a3142",
            "f668da93d27344f1a3523c3faa353dea",
            "51593d617b764f0ea55a70bf1cdb5986"
          ]
        },
        "outputId": "ff48b6a1-7daa-407a-f0d4-673f7bd47182"
      },
      "outputs": [
        {
          "output_type": "display_data",
          "data": {
            "text/plain": [
              "  0%|          | 0/3 [00:00<?, ?it/s]"
            ],
            "application/vnd.jupyter.widget-view+json": {
              "version_major": 2,
              "version_minor": 0,
              "model_id": "9a9ed6641f6d4563bc5c422500301760"
            }
          },
          "metadata": {}
        },
        {
          "output_type": "display_data",
          "data": {
            "text/plain": [
              "  0%|          | 0/439 [00:00<?, ?it/s]"
            ],
            "application/vnd.jupyter.widget-view+json": {
              "version_major": 2,
              "version_minor": 0,
              "model_id": "cae9489336fc464fa1cf5ca7455631c2"
            }
          },
          "metadata": {}
        },
        {
          "output_type": "stream",
          "name": "stdout",
          "text": [
            "[1,    10] loss: 0.004, acc: 0.156250\n",
            "[1,    20] loss: 0.004, acc: 0.218750\n",
            "[1,    30] loss: 0.003, acc: 0.375000\n",
            "[1,    40] loss: 0.003, acc: 0.468750\n",
            "[1,    50] loss: 0.003, acc: 0.562500\n",
            "[1,    60] loss: 0.003, acc: 0.468750\n",
            "[1,    70] loss: 0.003, acc: 0.468750\n",
            "[1,    80] loss: 0.003, acc: 0.468750\n",
            "[1,    90] loss: 0.003, acc: 0.656250\n",
            "[1,   100] loss: 0.003, acc: 0.531250\n",
            "[1,   110] loss: 0.003, acc: 0.531250\n",
            "[1,   120] loss: 0.003, acc: 0.593750\n",
            "[1,   130] loss: 0.003, acc: 0.406250\n",
            "[1,   140] loss: 0.003, acc: 0.593750\n",
            "[1,   150] loss: 0.003, acc: 0.500000\n",
            "[1,   160] loss: 0.003, acc: 0.718750\n",
            "[1,   170] loss: 0.003, acc: 0.437500\n",
            "[1,   180] loss: 0.003, acc: 0.531250\n",
            "[1,   190] loss: 0.003, acc: 0.718750\n",
            "[1,   200] loss: 0.003, acc: 0.656250\n",
            "[1,   210] loss: 0.003, acc: 0.531250\n",
            "[1,   220] loss: 0.003, acc: 0.500000\n",
            "[1,   230] loss: 0.003, acc: 0.625000\n",
            "[1,   240] loss: 0.003, acc: 0.468750\n",
            "[1,   250] loss: 0.003, acc: 0.500000\n",
            "[1,   260] loss: 0.003, acc: 0.656250\n",
            "[1,   270] loss: 0.003, acc: 0.625000\n",
            "[1,   280] loss: 0.003, acc: 0.656250\n",
            "[1,   290] loss: 0.002, acc: 0.843750\n",
            "[1,   300] loss: 0.003, acc: 0.593750\n",
            "[1,   310] loss: 0.003, acc: 0.593750\n",
            "[1,   320] loss: 0.003, acc: 0.437500\n",
            "[1,   330] loss: 0.003, acc: 0.718750\n",
            "[1,   340] loss: 0.003, acc: 0.531250\n",
            "[1,   350] loss: 0.003, acc: 0.531250\n",
            "[1,   360] loss: 0.003, acc: 0.625000\n",
            "[1,   370] loss: 0.003, acc: 0.562500\n",
            "[1,   380] loss: 0.003, acc: 0.625000\n",
            "[1,   390] loss: 0.003, acc: 0.687500\n",
            "[1,   400] loss: 0.003, acc: 0.625000\n",
            "[1,   410] loss: 0.003, acc: 0.625000\n",
            "[1,   420] loss: 0.003, acc: 0.656250\n",
            "[1,   430] loss: 0.003, acc: 0.500000\n",
            "Обучение закончено\n"
          ]
        }
      ],
      "source": [
        "# объявляем сеть\n",
        "net = ConvNet()\n",
        "# теперь обучим сеть. Выберите нужное уоличество эпох для обучения.\n",
        "# Постарайтесь подобрать его так, чтобы сеть не переобучилась, но и не недообучилась.\n",
        "# можно поставить побольше эпох и остановить обучение, когда покажется нужным\n",
        "net = train(net, n_epoch=3)#YOUR CODE)"
      ]
    },
    {
      "cell_type": "markdown",
      "metadata": {
        "id": "UVjGdi3KXYsb"
      },
      "source": [
        "Посчитаем accuracy на test:"
      ]
    },
    {
      "cell_type": "code",
      "execution_count": 86,
      "metadata": {
        "id": "-oi1sROrN3NH",
        "colab": {
          "base_uri": "https://localhost:8080/"
        },
        "outputId": "ef0d4bae-55ba-4b6c-e01d-8fd13e160c60"
      },
      "outputs": [
        {
          "output_type": "stream",
          "name": "stderr",
          "text": [
            "100%|██████████| 94/94 [00:12<00:00,  7.67it/s]\n"
          ]
        }
      ],
      "source": [
        "test_dataiter = iter(test_loader)\n",
        "all_test = []\n",
        "for images, labels in tqdm(test_dataiter):\n",
        "  all_test.append(accuracy_score(labels.numpy(),\n",
        "               np.argmax(net.forward(images).detach().numpy(), axis=1)))\n"
      ]
    },
    {
      "cell_type": "code",
      "source": [
        "np.mean(all_test)"
      ],
      "metadata": {
        "colab": {
          "base_uri": "https://localhost:8080/"
        },
        "id": "du_PlFKCnJAz",
        "outputId": "615e756a-fe50-4765-9e59-79ab96743997"
      },
      "execution_count": 87,
      "outputs": [
        {
          "output_type": "execute_result",
          "data": {
            "text/plain": [
              "0.582779255319149"
            ]
          },
          "metadata": {},
          "execution_count": 87
        }
      ]
    },
    {
      "cell_type": "code",
      "source": [
        "result = np.argmax(net.forward(images).detach().numpy(), axis=1)"
      ],
      "metadata": {
        "id": "MpCOeLwxqAvV"
      },
      "execution_count": 88,
      "outputs": []
    },
    {
      "cell_type": "code",
      "source": [
        "result = np.argmax(net.forward(images).detach().numpy(), axis=1)\n",
        "# labels\n",
        "# plt.hist(result)"
      ],
      "metadata": {
        "id": "6xRkbme_qkmX"
      },
      "execution_count": 89,
      "outputs": []
    },
    {
      "cell_type": "code",
      "source": [
        "# plt.hist(result)"
      ],
      "metadata": {
        "id": "lwOBD9jJqWXc"
      },
      "execution_count": 90,
      "outputs": []
    },
    {
      "cell_type": "code",
      "execution_count": 91,
      "metadata": {
        "id": "UKf6zKGE0wVU",
        "colab": {
          "base_uri": "https://localhost:8080/"
        },
        "outputId": "a9e8964e-b63e-455a-c049-3d6490f4d5ac"
      },
      "outputs": [
        {
          "output_type": "execute_result",
          "data": {
            "text/plain": [
              "0.5"
            ]
          },
          "metadata": {},
          "execution_count": 91
        }
      ],
      "source": [
        "accuracy_score(labels.numpy(),\n",
        "               np.argmax(net.forward(images).detach().numpy(), axis=1))"
      ]
    },
    {
      "cell_type": "markdown",
      "metadata": {
        "id": "W1mkYp5Ct6LL"
      },
      "source": [
        "**Задание:**\n",
        "Вывод:\n",
        "\n",
        "Проанализирейте: переобучилась ли ваша сеть? Достаточно ли хорошо она предсказывает картинки на тесте?"
      ]
    },
    {
      "cell_type": "markdown",
      "metadata": {
        "id": "1fcFq3BUxGyq"
      },
      "source": [
        "**Тут напишите ваш вывод**"
      ]
    },
    {
      "cell_type": "markdown",
      "metadata": {
        "id": "2neofUGsE2D0"
      },
      "source": [
        "## Задание 3. Дообучение AlexNet (2+2 балла код + 1 балл вывод)"
      ]
    },
    {
      "cell_type": "markdown",
      "metadata": {
        "id": "n0drp6KjFI-9"
      },
      "source": [
        "Теперь давайте попробуем дообучить сеть, предобученную на ImageNet, на нашем датасете.\n",
        "\n",
        "На практическом занятии мы дообучали Vgg16, теперь даватйе возьмем другую сеть -- AlexNet.\n",
        "\n",
        "Список сетей, предобученных на ImageNet, которые есть в библиотеке PyTorch: https://pytorch.org/docs/stable/torchvision/models.html"
      ]
    },
    {
      "cell_type": "code",
      "execution_count": 92,
      "metadata": {
        "id": "_RpfGJt5Bran"
      },
      "outputs": [],
      "source": [
        "from torchvision import models\n",
        "AlexNet = models.alexnet(pretrained=True)"
      ]
    },
    {
      "cell_type": "code",
      "execution_count": 93,
      "metadata": {
        "id": "1qfS1lYLlq6t"
      },
      "outputs": [],
      "source": [
        "result = AlexNet(images)"
      ]
    },
    {
      "cell_type": "code",
      "source": [
        "AlexNet.parameters"
      ],
      "metadata": {
        "colab": {
          "base_uri": "https://localhost:8080/"
        },
        "id": "DqrAjjVzop0c",
        "outputId": "f2d60889-0189-481e-8c5d-99a1e70c7ac1"
      },
      "execution_count": 94,
      "outputs": [
        {
          "output_type": "execute_result",
          "data": {
            "text/plain": [
              "<bound method Module.parameters of AlexNet(\n",
              "  (features): Sequential(\n",
              "    (0): Conv2d(3, 64, kernel_size=(11, 11), stride=(4, 4), padding=(2, 2))\n",
              "    (1): ReLU(inplace=True)\n",
              "    (2): MaxPool2d(kernel_size=3, stride=2, padding=0, dilation=1, ceil_mode=False)\n",
              "    (3): Conv2d(64, 192, kernel_size=(5, 5), stride=(1, 1), padding=(2, 2))\n",
              "    (4): ReLU(inplace=True)\n",
              "    (5): MaxPool2d(kernel_size=3, stride=2, padding=0, dilation=1, ceil_mode=False)\n",
              "    (6): Conv2d(192, 384, kernel_size=(3, 3), stride=(1, 1), padding=(1, 1))\n",
              "    (7): ReLU(inplace=True)\n",
              "    (8): Conv2d(384, 256, kernel_size=(3, 3), stride=(1, 1), padding=(1, 1))\n",
              "    (9): ReLU(inplace=True)\n",
              "    (10): Conv2d(256, 256, kernel_size=(3, 3), stride=(1, 1), padding=(1, 1))\n",
              "    (11): ReLU(inplace=True)\n",
              "    (12): MaxPool2d(kernel_size=3, stride=2, padding=0, dilation=1, ceil_mode=False)\n",
              "  )\n",
              "  (avgpool): AdaptiveAvgPool2d(output_size=(6, 6))\n",
              "  (classifier): Sequential(\n",
              "    (0): Dropout(p=0.5, inplace=False)\n",
              "    (1): Linear(in_features=9216, out_features=4096, bias=True)\n",
              "    (2): ReLU(inplace=True)\n",
              "    (3): Dropout(p=0.5, inplace=False)\n",
              "    (4): Linear(in_features=4096, out_features=4096, bias=True)\n",
              "    (5): ReLU(inplace=True)\n",
              "    (6): Linear(in_features=4096, out_features=1000, bias=True)\n",
              "  )\n",
              ")>"
            ]
          },
          "metadata": {},
          "execution_count": 94
        }
      ]
    },
    {
      "cell_type": "markdown",
      "metadata": {
        "id": "fnA84rkLvSnn"
      },
      "source": [
        "**Задание 3.1:**\n",
        "\n",
        "Напишите класс New_AlexNet на основе AlexNet, у которой заменили последний слой. Заморозьте все слои, кроме слоев классификатора (всех линейных слоев)"
      ]
    },
    {
      "cell_type": "code",
      "execution_count": 95,
      "metadata": {
        "id": "hoIfyTOtnYbR"
      },
      "outputs": [],
      "source": [
        "class New_AlexNet(nn.Module):\n",
        "    def __init__(self,\n",
        "                 AlexNet):\n",
        "        super().__init__()\n",
        "        # забираем только сверточную часть из модели\n",
        "        self.CNN = AlexNet.features\n",
        "        # собираем наш классификатор\n",
        "        # здесь нам нужен дропаут чтобы модель не так яростно переобучалась\n",
        "        self.classifier = nn.Sequential(\n",
        "            nn.Flatten(), # для перехода от сверточной части к полносвязной\n",
        "            nn.Dropout(0.5),\n",
        "            nn.Linear(in_features=2304,\n",
        "                      out_features=1200, bias=True),\n",
        "            nn.ReLU(),\n",
        "            nn.Dropout(0.5),\n",
        "            nn.Linear(in_features=1200,\n",
        "                      out_features=300, bias=True),\n",
        "            nn.ReLU(),\n",
        "            nn.Dropout(0.5),\n",
        "            nn.Linear(in_features=300,\n",
        "                      out_features=6, bias=True),\n",
        "            nn.Softmax()\n",
        "\n",
        "\n",
        "\n",
        "        )\n",
        "\n",
        "\n",
        "        # YOUR CODE\n",
        "\n",
        "    def forward(self, x):\n",
        "      x = self.CNN(x)\n",
        "      x = self.classifier(x)\n",
        "\n",
        "        # YOUR CODE\n",
        "\n",
        "      return x"
      ]
    },
    {
      "cell_type": "code",
      "source": [
        "# применяем сверточную часть чтобы понять размерность\n",
        "res = AlexNet.features(images)"
      ],
      "metadata": {
        "id": "nGgxOdqSrVY0"
      },
      "execution_count": 96,
      "outputs": []
    },
    {
      "cell_type": "code",
      "source": [
        "print(nn.Flatten()(res).shape)\n",
        "res.shape[1]*res.shape[2]*res.shape[3]"
      ],
      "metadata": {
        "colab": {
          "base_uri": "https://localhost:8080/"
        },
        "id": "JHrt0zdQrb_l",
        "outputId": "1ba80681-5c6a-49e9-acce-976d2bd3fbfa"
      },
      "execution_count": 97,
      "outputs": [
        {
          "output_type": "stream",
          "name": "stdout",
          "text": [
            "torch.Size([24, 2304])\n"
          ]
        },
        {
          "output_type": "execute_result",
          "data": {
            "text/plain": [
              "2304"
            ]
          },
          "metadata": {},
          "execution_count": 97
        }
      ]
    },
    {
      "cell_type": "code",
      "execution_count": 98,
      "metadata": {
        "id": "xm09_jmAnp4q"
      },
      "outputs": [],
      "source": [
        "# net = New_AlexNet(AlexNet)\n",
        "# #замораживаем градиенты в сверточной части\n",
        "# net.CNN.requires_grad_(False)\n",
        "# train(net, n_epoch=3)"
      ]
    },
    {
      "cell_type": "code",
      "source": [],
      "metadata": {
        "id": "KUdwuyuI0Ue9"
      },
      "execution_count": 98,
      "outputs": []
    },
    {
      "cell_type": "code",
      "source": [
        "#двухголовый класс\n",
        "class New_AlexNet_2Head(nn.Module):\n",
        "    def __init__(self,\n",
        "                 AlexNet,\n",
        "                 myCnn):\n",
        "        super().__init__()\n",
        "        # забираем только сверточную часть из модели\n",
        "        self.CNN = AlexNet.features\n",
        "        self.my_cnn = myCnn.conv_part\n",
        "        # собираем наш классификатор\n",
        "        # здесь нам нужен дропаут чтобы модель не так яростно переобучалась\n",
        "        self.classifier = nn.Sequential(\n",
        "            nn.Flatten(), # для перехода от сверточной части к полносвязной\n",
        "            nn.Dropout(0.5),\n",
        "            nn.Linear(in_features=5772, # цифра из конката\n",
        "                      out_features=1200, bias=True),\n",
        "            nn.ReLU(),\n",
        "            nn.Dropout(0.5),\n",
        "            nn.Linear(in_features=1200,\n",
        "                      out_features=300, bias=True),\n",
        "            nn.ReLU(),\n",
        "            nn.Dropout(0.5),\n",
        "            nn.Linear(in_features=300,\n",
        "                      out_features=6, bias=True),\n",
        "            nn.Softmax()\n",
        "\n",
        "\n",
        "\n",
        "        )\n",
        "\n",
        "\n",
        "        # YOUR CODE\n",
        "\n",
        "    def forward(self, x):\n",
        "      res_my_cnn = nn.Flatten()(self.my_cnn(x))\n",
        "      res_alexnet = nn.Flatten()(self.CNN(x))\n",
        "      full_embe = torch.concat((res_my_cnn,res_alexnet),dim=-1)\n",
        "\n",
        "      result = self.classifier(full_embe)\n",
        "\n",
        "        # YOUR CODE\n",
        "\n",
        "      return result"
      ],
      "metadata": {
        "id": "000mfWSZ2LVV"
      },
      "execution_count": 58,
      "outputs": []
    },
    {
      "cell_type": "code",
      "source": [
        "# conv_net.parameters\n",
        "multi_head_net = New_AlexNet_2Head(AlexNet,conv_net)"
      ],
      "metadata": {
        "id": "yfHCkreg6Joc"
      },
      "execution_count": 59,
      "outputs": []
    },
    {
      "cell_type": "code",
      "source": [
        "# код тут нужен только для анализа и отладки\n",
        "# Я его оставил просто для понимания\n",
        "\n",
        "multi_head_net.my_cnn(images).shape\n",
        "multi_head_net.CNN(images).shape\n",
        "# видим, что размерности совсем разные. Поэтому конкатить будем уже после\n",
        "# перевода во флаттен\n",
        "\n",
        "res_my_cnn = nn.Flatten()(multi_head_net.my_cnn(images))\n",
        "res_alexnet = nn.Flatten()(multi_head_net.CNN(images))\n",
        "torch.concat((res_my_cnn,res_alexnet),dim=-1).shape # -1 в dim значит что по последней оси\n",
        "\n",
        "# дальше код переносим в forward"
      ],
      "metadata": {
        "colab": {
          "base_uri": "https://localhost:8080/"
        },
        "id": "9UZG1thKSnTK",
        "outputId": "72c721c2-835e-482e-ab4f-9695e36acdf2"
      },
      "execution_count": 99,
      "outputs": [
        {
          "output_type": "execute_result",
          "data": {
            "text/plain": [
              "torch.Size([24, 5772])"
            ]
          },
          "metadata": {},
          "execution_count": 99
        }
      ]
    },
    {
      "cell_type": "code",
      "source": [
        "#  проверяем работу\n",
        "multi_head_net(images)"
      ],
      "metadata": {
        "id": "0aWDS0OQ6tE3",
        "colab": {
          "base_uri": "https://localhost:8080/"
        },
        "outputId": "331dbd01-b745-4799-8189-ba1675ec303a"
      },
      "execution_count": 100,
      "outputs": [
        {
          "output_type": "execute_result",
          "data": {
            "text/plain": [
              "tensor([[0.0815, 0.3647, 0.1381, 0.0857, 0.2137, 0.1163],\n",
              "        [0.1784, 0.1866, 0.1895, 0.0640, 0.2942, 0.0873],\n",
              "        [0.1298, 0.2504, 0.1864, 0.1545, 0.1419, 0.1370],\n",
              "        [0.1685, 0.2222, 0.2536, 0.0891, 0.0957, 0.1710],\n",
              "        [0.1146, 0.2449, 0.1032, 0.0827, 0.3033, 0.1513],\n",
              "        [0.1257, 0.1525, 0.0669, 0.1903, 0.2225, 0.2421],\n",
              "        [0.2581, 0.2355, 0.1250, 0.0806, 0.1570, 0.1437],\n",
              "        [0.2118, 0.1927, 0.1686, 0.1163, 0.1000, 0.2106],\n",
              "        [0.2287, 0.2881, 0.1836, 0.0981, 0.0600, 0.1414],\n",
              "        [0.0833, 0.1551, 0.1250, 0.1400, 0.1995, 0.2971],\n",
              "        [0.1387, 0.1480, 0.2562, 0.1255, 0.1462, 0.1854],\n",
              "        [0.1655, 0.1612, 0.1172, 0.1201, 0.1993, 0.2366],\n",
              "        [0.1257, 0.1311, 0.1244, 0.1595, 0.3090, 0.1504],\n",
              "        [0.1137, 0.1081, 0.0987, 0.1366, 0.4255, 0.1174],\n",
              "        [0.2115, 0.2757, 0.1523, 0.1130, 0.1652, 0.0822],\n",
              "        [0.1516, 0.1572, 0.1453, 0.1751, 0.1667, 0.2040],\n",
              "        [0.1423, 0.1348, 0.1977, 0.1456, 0.1186, 0.2610],\n",
              "        [0.1271, 0.2045, 0.0935, 0.2532, 0.2201, 0.1015],\n",
              "        [0.1539, 0.1548, 0.1639, 0.1510, 0.2013, 0.1753],\n",
              "        [0.1538, 0.1793, 0.1078, 0.1451, 0.1956, 0.2185],\n",
              "        [0.1869, 0.1354, 0.0889, 0.0906, 0.3399, 0.1583],\n",
              "        [0.1868, 0.2109, 0.1855, 0.1179, 0.1264, 0.1724],\n",
              "        [0.1381, 0.1155, 0.1078, 0.1112, 0.1715, 0.3559],\n",
              "        [0.1808, 0.0989, 0.1038, 0.1650, 0.2067, 0.2448]],\n",
              "       grad_fn=<SoftmaxBackward0>)"
            ]
          },
          "metadata": {},
          "execution_count": 100
        }
      ]
    },
    {
      "cell_type": "code",
      "source": [
        "# проверяем обучение\n",
        "multi_head_net = train(multi_head_net, n_epoch=1)"
      ],
      "metadata": {
        "colab": {
          "base_uri": "https://localhost:8080/",
          "height": 545,
          "referenced_widgets": [
            "1c1764098c2e4648935e64940ee9c179",
            "06329e5df6564191a950278f6c5c864f",
            "3d5294f168854a24bd004d63398eba1f",
            "df0399b7310b401da386da9d2bab7be7",
            "f8105346485a4b7ab0953558ac63762b",
            "696c537a8f61433ebcaeeacb328edf5f",
            "6030c47380874c00a1fd6d145ae559e0",
            "0a712016469d4e95873f268baddc4e95",
            "18b7efc65fc6438ba8fe00e8a792a493",
            "10851dd187324bd78dfd96b1f717758a",
            "48a2e143e2af4f22ba7ef3f8a2ca4855",
            "80b7900053cd46978839766ed6cc53e1",
            "2d11c9b9ca3740e9a8238ec4711fd4e6",
            "df7355e5cdd546d49bcb524f299c3edb",
            "1a4c43f3ca9b4dfbb06fedcb8d55f1c5",
            "90dfe74e0a9149aea3d38f6771595f40",
            "178c6895c8d4437db2eb63e9b3bc86c2",
            "16a97af902f64d7485be7a29e1e0d284",
            "42ad572b1bb544fbbb2ad2c7d1d77744",
            "bd25e5399d25402e9db06d214a9bd5c1",
            "f9bc84faf4d04c529bc486c407034563",
            "c161e2a0a75446f3a6c4a3279c36cafb"
          ]
        },
        "id": "t_x0nfP4v5Mh",
        "outputId": "918aeb91-7e86-4121-9cd2-0a23e1981c81"
      },
      "execution_count": 102,
      "outputs": [
        {
          "output_type": "display_data",
          "data": {
            "text/plain": [
              "  0%|          | 0/1 [00:00<?, ?it/s]"
            ],
            "application/vnd.jupyter.widget-view+json": {
              "version_major": 2,
              "version_minor": 0,
              "model_id": "1c1764098c2e4648935e64940ee9c179"
            }
          },
          "metadata": {}
        },
        {
          "output_type": "display_data",
          "data": {
            "text/plain": [
              "  0%|          | 0/439 [00:00<?, ?it/s]"
            ],
            "application/vnd.jupyter.widget-view+json": {
              "version_major": 2,
              "version_minor": 0,
              "model_id": "80b7900053cd46978839766ed6cc53e1"
            }
          },
          "metadata": {}
        },
        {
          "output_type": "stream",
          "name": "stdout",
          "text": [
            "[1,    10] loss: 0.003, acc: 0.343750\n",
            "[1,    20] loss: 0.003, acc: 0.468750\n",
            "[1,    30] loss: 0.003, acc: 0.531250\n",
            "[1,    40] loss: 0.003, acc: 0.281250\n",
            "[1,    50] loss: 0.004, acc: 0.156250\n",
            "[1,    60] loss: 0.004, acc: 0.218750\n"
          ]
        },
        {
          "output_type": "error",
          "ename": "KeyboardInterrupt",
          "evalue": "ignored",
          "traceback": [
            "\u001b[0;31m---------------------------------------------------------------------------\u001b[0m",
            "\u001b[0;31mKeyboardInterrupt\u001b[0m                         Traceback (most recent call last)",
            "\u001b[0;32m<ipython-input-102-664cdfbb11b9>\u001b[0m in \u001b[0;36m<cell line: 2>\u001b[0;34m()\u001b[0m\n\u001b[1;32m      1\u001b[0m \u001b[0;31m# проверяем обучение\u001b[0m\u001b[0;34m\u001b[0m\u001b[0;34m\u001b[0m\u001b[0m\n\u001b[0;32m----> 2\u001b[0;31m \u001b[0mmulti_head_net\u001b[0m \u001b[0;34m=\u001b[0m \u001b[0mtrain\u001b[0m\u001b[0;34m(\u001b[0m\u001b[0mmulti_head_net\u001b[0m\u001b[0;34m,\u001b[0m \u001b[0mn_epoch\u001b[0m\u001b[0;34m=\u001b[0m\u001b[0;36m1\u001b[0m\u001b[0;34m)\u001b[0m\u001b[0;34m\u001b[0m\u001b[0;34m\u001b[0m\u001b[0m\n\u001b[0m",
            "\u001b[0;32m<ipython-input-84-481e179071c5>\u001b[0m in \u001b[0;36mtrain\u001b[0;34m(net, n_epoch)\u001b[0m\n\u001b[1;32m     24\u001b[0m             \u001b[0mloss\u001b[0m \u001b[0;34m=\u001b[0m \u001b[0mloss_fn\u001b[0m\u001b[0;34m(\u001b[0m\u001b[0my_pred\u001b[0m\u001b[0;34m,\u001b[0m \u001b[0my_batch\u001b[0m\u001b[0;34m)\u001b[0m\u001b[0;34m\u001b[0m\u001b[0;34m\u001b[0m\u001b[0m\n\u001b[1;32m     25\u001b[0m             \u001b[0;31m# bsckpropagation (вычисление градиентов)\u001b[0m\u001b[0;34m\u001b[0m\u001b[0;34m\u001b[0m\u001b[0m\n\u001b[0;32m---> 26\u001b[0;31m             \u001b[0mloss\u001b[0m\u001b[0;34m.\u001b[0m\u001b[0mbackward\u001b[0m\u001b[0;34m(\u001b[0m\u001b[0;34m)\u001b[0m\u001b[0;34m\u001b[0m\u001b[0;34m\u001b[0m\u001b[0m\n\u001b[0m\u001b[1;32m     27\u001b[0m             \u001b[0;31m# обновление весов сети\u001b[0m\u001b[0;34m\u001b[0m\u001b[0;34m\u001b[0m\u001b[0m\n\u001b[1;32m     28\u001b[0m             \u001b[0moptimizer\u001b[0m\u001b[0;34m.\u001b[0m\u001b[0mstep\u001b[0m\u001b[0;34m(\u001b[0m\u001b[0;34m)\u001b[0m\u001b[0;34m\u001b[0m\u001b[0;34m\u001b[0m\u001b[0m\n",
            "\u001b[0;32m/usr/local/lib/python3.10/dist-packages/torch/_tensor.py\u001b[0m in \u001b[0;36mbackward\u001b[0;34m(self, gradient, retain_graph, create_graph, inputs)\u001b[0m\n\u001b[1;32m    485\u001b[0m                 \u001b[0minputs\u001b[0m\u001b[0;34m=\u001b[0m\u001b[0minputs\u001b[0m\u001b[0;34m,\u001b[0m\u001b[0;34m\u001b[0m\u001b[0;34m\u001b[0m\u001b[0m\n\u001b[1;32m    486\u001b[0m             )\n\u001b[0;32m--> 487\u001b[0;31m         torch.autograd.backward(\n\u001b[0m\u001b[1;32m    488\u001b[0m             \u001b[0mself\u001b[0m\u001b[0;34m,\u001b[0m \u001b[0mgradient\u001b[0m\u001b[0;34m,\u001b[0m \u001b[0mretain_graph\u001b[0m\u001b[0;34m,\u001b[0m \u001b[0mcreate_graph\u001b[0m\u001b[0;34m,\u001b[0m \u001b[0minputs\u001b[0m\u001b[0;34m=\u001b[0m\u001b[0minputs\u001b[0m\u001b[0;34m\u001b[0m\u001b[0;34m\u001b[0m\u001b[0m\n\u001b[1;32m    489\u001b[0m         )\n",
            "\u001b[0;32m/usr/local/lib/python3.10/dist-packages/torch/autograd/__init__.py\u001b[0m in \u001b[0;36mbackward\u001b[0;34m(tensors, grad_tensors, retain_graph, create_graph, grad_variables, inputs)\u001b[0m\n\u001b[1;32m    198\u001b[0m     \u001b[0;31m# some Python versions print out the first line of a multi-line function\u001b[0m\u001b[0;34m\u001b[0m\u001b[0;34m\u001b[0m\u001b[0m\n\u001b[1;32m    199\u001b[0m     \u001b[0;31m# calls in the traceback and some print out the last line\u001b[0m\u001b[0;34m\u001b[0m\u001b[0;34m\u001b[0m\u001b[0m\n\u001b[0;32m--> 200\u001b[0;31m     Variable._execution_engine.run_backward(  # Calls into the C++ engine to run the backward pass\n\u001b[0m\u001b[1;32m    201\u001b[0m         \u001b[0mtensors\u001b[0m\u001b[0;34m,\u001b[0m \u001b[0mgrad_tensors_\u001b[0m\u001b[0;34m,\u001b[0m \u001b[0mretain_graph\u001b[0m\u001b[0;34m,\u001b[0m \u001b[0mcreate_graph\u001b[0m\u001b[0;34m,\u001b[0m \u001b[0minputs\u001b[0m\u001b[0;34m,\u001b[0m\u001b[0;34m\u001b[0m\u001b[0;34m\u001b[0m\u001b[0m\n\u001b[1;32m    202\u001b[0m         allow_unreachable=True, accumulate_grad=True)  # Calls into the C++ engine to run the backward pass\n",
            "\u001b[0;31mKeyboardInterrupt\u001b[0m: "
          ]
        }
      ]
    },
    {
      "cell_type": "code",
      "source": [],
      "metadata": {
        "id": "BWYrwS850fRq"
      },
      "execution_count": 43,
      "outputs": []
    },
    {
      "cell_type": "code",
      "source": [
        "# labels"
      ],
      "metadata": {
        "id": "7MQLGQH62FI4"
      },
      "execution_count": 44,
      "outputs": []
    },
    {
      "cell_type": "code",
      "source": [
        "# net(images)"
      ],
      "metadata": {
        "id": "UcZCyPz9stkW"
      },
      "execution_count": null,
      "outputs": []
    },
    {
      "cell_type": "markdown",
      "metadata": {
        "id": "I-VRRDs9wbOS"
      },
      "source": [
        "И посмотрим на скор на тесте:"
      ]
    },
    {
      "cell_type": "markdown",
      "metadata": {
        "id": "RtmRyp_ewsuW"
      },
      "source": [
        "**Задание 3.3:** Вывод:\n",
        "\n",
        "Какие результаты у вас получились? Классифицирует ли картинки природы лучше сеть, предобученная на ImageNet, или ваша сеть из задания два получилась лучше?\n",
        "Есть ли разница между дообучением двух последних слоев сети или всех линейных слоев сети?"
      ]
    },
    {
      "cell_type": "markdown",
      "metadata": {
        "id": "MV1Bf06QxL8p"
      },
      "source": [
        " **Тут напишите ваш вывод**"
      ]
    },
    {
      "cell_type": "markdown",
      "metadata": {
        "id": "Y3Xn3U9MxM6n"
      },
      "source": [
        "**Задание 4.1:** Соберем простой autoencoder:\n",
        "\n",
        "Собираем автоэнкодер  - он состоит из 2х кусков.\n",
        "\n",
        "Encoder - собирает из картинки эмбеддинг\n",
        "Decoder должен вернуть в начальное состояние.\n",
        "Зачем нам это может потребоваться ? В чем преимущество такой архитектуры ?"
      ]
    },
    {
      "cell_type": "code",
      "execution_count": 46,
      "metadata": {
        "id": "yvFA4tZTer_J"
      },
      "outputs": [],
      "source": [
        "class autoencoder_base(nn.Module):\n",
        "    def __init__(self):\n",
        "        super().__init__()\n",
        "        # YOUR CODE\n",
        "        # self.Encoder = AlexNet.features\n",
        "        self.Conv1 = nn.Conv2d(in_channels=3,\n",
        "                               out_channels=5,\n",
        "                              kernel_size=(3,3)\n",
        "                          )\n",
        "        self.Max_pol = nn.MaxPool2d(kernel_size=(2,2))\n",
        "        self.Conv2 = nn.Conv2d(in_channels=5,\n",
        "                               out_channels=4,\n",
        "                              kernel_size=(3,3))\n",
        "        self.Max_pol_2 = nn.MaxPool2d(kernel_size=(2,2))\n",
        "        self.Conv3 = nn.Conv2d(in_channels=4,\n",
        "                               out_channels=3,\n",
        "                              kernel_size=(3,3))\n",
        "        self.Encoder = torch.nn.Sequential(\n",
        "            self.Conv1,\n",
        "            nn.ReLU(),\n",
        "            self.Max_pol,\n",
        "            self.Conv2,\n",
        "            nn.ReLU(),\n",
        "            self.Max_pol_2,\n",
        "            self.Conv3,\n",
        "            nn.ReLU())\n",
        "\n",
        "        self.Conv_trans_1 = nn.ConvTranspose2d(in_channels=3,\n",
        "                               out_channels=4,\n",
        "                              kernel_size=(3,3))\n",
        "        self.Conv_trans_2 = nn.ConvTranspose2d(in_channels=4,\n",
        "                               out_channels=5,\n",
        "                              kernel_size=(3,3))\n",
        "        self.Conv_trans_3 = nn.ConvTranspose2d(in_channels=5,\n",
        "                               out_channels=3,\n",
        "                              kernel_size=(3,3))\n",
        "\n",
        "\n",
        "\n",
        "    def forward(self, x):\n",
        "      # применили энкодер\n",
        "      encoder_value = self.Encoder(x)\n",
        "      #  применяем декодер по шагам\n",
        "      x_decoder = self.Conv_trans_1(encoder_value)\n",
        "      x_decoder = nn.ReLU()(x_decoder)\n",
        "      x_decoder = F.interpolate(x_decoder, size=(38, 38),\n",
        "                          mode='nearest')\n",
        "      x_decoder = self.Conv_trans_2(x_decoder)\n",
        "      x_decoder = nn.ReLU()(x_decoder)\n",
        "      x_decoder = F.interpolate(x_decoder, size=(74, 74),\n",
        "                          mode='nearest')\n",
        "      x_decoder = self.Conv_trans_3(x_decoder)\n",
        "      x_decoder = nn.ReLU()(x_decoder)\n",
        "      x_decoder = F.interpolate(x_decoder, size=(150, 150),\n",
        "                          mode='nearest')\n",
        "\n",
        "\n",
        "      # decoder_value = self.Decoder(encoder_value)\n",
        "\n",
        "\n",
        "        # YOUR CODE\n",
        "      return x_decoder"
      ]
    },
    {
      "cell_type": "code",
      "source": [
        "autoencoder = autoencoder_base()"
      ],
      "metadata": {
        "id": "2b_m2dzu9cHG"
      },
      "execution_count": 47,
      "outputs": []
    },
    {
      "cell_type": "code",
      "source": [
        "def train_autoencoder(net, n_epoch=5):\n",
        "    # выбираем функцию потерь\n",
        "    loss_fn = torch.nn.MSELoss()\n",
        "\n",
        "    # выбираем алгоритм оптимизации и learning_rate\n",
        "    learning_rate = 1e-3\n",
        "    optimizer = torch.optim.Adam(net.parameters(), lr=learning_rate)\n",
        "\n",
        "  # обучаем сеть 5 эпохи\n",
        "    for epoch in tqdm_notebook(range(n_epoch)):\n",
        "\n",
        "        running_loss = 0.0\n",
        "        train_dataiter = iter(train_loader)\n",
        "        for i, batch in enumerate(tqdm_notebook(train_dataiter)):\n",
        "            # так получаем текущий батч\n",
        "            X_batch, _ = batch\n",
        "\n",
        "            # обнуляем градиенты\n",
        "            optimizer.zero_grad()\n",
        "\n",
        "            # forward pass (получение ответов на батч картинок)\n",
        "            y_pred = net(X_batch)\n",
        "            # вычисление лосса от выданных сетью ответов и правильных ответов на батч\n",
        "            loss = loss_fn(y_pred, X_batch)\n",
        "            # bsckpropagation (вычисление градиентов)\n",
        "            loss.backward()\n",
        "            # обновление весов сети\n",
        "            optimizer.step()\n",
        "\n",
        "            # выведем текущий loss\n",
        "            running_loss += loss.item()\n",
        "            # выведем качество каждые 500 батчей\n",
        "            if i % 10 == 9:\n",
        "                print(running_loss)\n",
        "            running_loss = 0.0\n",
        "\n",
        "        print('Обучение закончено')\n",
        "        return net"
      ],
      "metadata": {
        "id": "9Fdiu9zDEt-4"
      },
      "execution_count": 48,
      "outputs": []
    },
    {
      "cell_type": "code",
      "source": [
        "train_autoencoder(autoencoder)"
      ],
      "metadata": {
        "colab": {
          "base_uri": "https://localhost:8080/",
          "height": 1000,
          "referenced_widgets": [
            "d0bada416d844855981b3ef7dbee5a36",
            "3470897233e84bcca634b2453773726a",
            "dbb3f6d1e5c7493eaff2c8fa71564e18",
            "37c7bf1f61ce419192f9d860d0651bec",
            "ff46569bdbe542068079500c7c7b74de",
            "81944723b8b840de8296964059da61e9",
            "9e45adca58e84c52a9cec1b36741e51f",
            "9ed25fab32a4452dae95ebe59a8ce41d",
            "0e3cdacc9c7e482b852680ef99648444",
            "551c5bcbf6c04a7b8ac79b2cd05b5a30",
            "f2ef836a8d7348dfa0d2be379b09550c",
            "25814116ad624b3ebbd68a5adeb6960a",
            "4f578313d4b241c6bf223c98106e010a",
            "0e3597fbb1f94059837176a57c53d85a",
            "0a35e474e5d14840b5e5e87fc06da17d",
            "b2856afc205e415b98ac36edac494ec8",
            "8a7df7fb8462445ca4a5c97aa721944f",
            "d4a33341d9f140dbb4433a0395d6b531",
            "d24fff04c25944cb917e37bd0112cd2f",
            "7cb4e1bd3bd540b0bddbf931ff8dd8cd",
            "3664b3e39c2b49ae80296926dad83c49",
            "00ec4afaaacd4718b87c71598d72d621"
          ]
        },
        "id": "UDOHTBIj_Zg7",
        "outputId": "7d4d1750-8c48-40fb-edf7-7c2d698b6760"
      },
      "execution_count": 49,
      "outputs": [
        {
          "output_type": "display_data",
          "data": {
            "text/plain": [
              "  0%|          | 0/5 [00:00<?, ?it/s]"
            ],
            "application/vnd.jupyter.widget-view+json": {
              "version_major": 2,
              "version_minor": 0,
              "model_id": "d0bada416d844855981b3ef7dbee5a36"
            }
          },
          "metadata": {}
        },
        {
          "output_type": "display_data",
          "data": {
            "text/plain": [
              "  0%|          | 0/439 [00:00<?, ?it/s]"
            ],
            "application/vnd.jupyter.widget-view+json": {
              "version_major": 2,
              "version_minor": 0,
              "model_id": "25814116ad624b3ebbd68a5adeb6960a"
            }
          },
          "metadata": {}
        },
        {
          "output_type": "stream",
          "name": "stdout",
          "text": [
            "1.5052708387374878\n",
            "1.4726566076278687\n",
            "1.349698781967163\n",
            "1.4269611835479736\n",
            "1.3430660963058472\n",
            "1.2245949506759644\n",
            "1.29464852809906\n",
            "1.292099952697754\n",
            "1.2651488780975342\n",
            "1.0069035291671753\n",
            "1.055023193359375\n",
            "0.9344414472579956\n",
            "1.0138555765151978\n",
            "0.9119641780853271\n",
            "0.9853050708770752\n",
            "1.0555379390716553\n",
            "0.980953574180603\n",
            "0.9690519571304321\n",
            "1.021097183227539\n",
            "0.9838284850120544\n",
            "0.9343067407608032\n",
            "0.9574229121208191\n",
            "0.9699028134346008\n",
            "1.058346152305603\n",
            "0.9725013971328735\n",
            "0.9690103530883789\n",
            "0.9781694412231445\n",
            "0.9973558783531189\n",
            "0.9823252558708191\n",
            "1.0909743309020996\n",
            "0.8377711176872253\n",
            "0.9569488763809204\n",
            "1.0526868104934692\n",
            "0.9589821696281433\n",
            "1.0353530645370483\n",
            "0.8516154885292053\n",
            "1.032564640045166\n",
            "1.0470294952392578\n",
            "0.9641605615615845\n",
            "0.969742476940155\n",
            "0.8558115363121033\n",
            "1.0349420309066772\n",
            "1.0334419012069702\n",
            "Обучение закончено\n"
          ]
        },
        {
          "output_type": "execute_result",
          "data": {
            "text/plain": [
              "autoencoder_base(\n",
              "  (Conv1): Conv2d(3, 5, kernel_size=(3, 3), stride=(1, 1))\n",
              "  (Max_pol): MaxPool2d(kernel_size=(2, 2), stride=(2, 2), padding=0, dilation=1, ceil_mode=False)\n",
              "  (Conv2): Conv2d(5, 4, kernel_size=(3, 3), stride=(1, 1))\n",
              "  (Max_pol_2): MaxPool2d(kernel_size=(2, 2), stride=(2, 2), padding=0, dilation=1, ceil_mode=False)\n",
              "  (Conv3): Conv2d(4, 3, kernel_size=(3, 3), stride=(1, 1))\n",
              "  (Encoder): Sequential(\n",
              "    (0): Conv2d(3, 5, kernel_size=(3, 3), stride=(1, 1))\n",
              "    (1): ReLU()\n",
              "    (2): MaxPool2d(kernel_size=(2, 2), stride=(2, 2), padding=0, dilation=1, ceil_mode=False)\n",
              "    (3): Conv2d(5, 4, kernel_size=(3, 3), stride=(1, 1))\n",
              "    (4): ReLU()\n",
              "    (5): MaxPool2d(kernel_size=(2, 2), stride=(2, 2), padding=0, dilation=1, ceil_mode=False)\n",
              "    (6): Conv2d(4, 3, kernel_size=(3, 3), stride=(1, 1))\n",
              "    (7): ReLU()\n",
              "  )\n",
              "  (Conv_trans_1): ConvTranspose2d(3, 4, kernel_size=(3, 3), stride=(1, 1))\n",
              "  (Conv_trans_2): ConvTranspose2d(4, 5, kernel_size=(3, 3), stride=(1, 1))\n",
              "  (Conv_trans_3): ConvTranspose2d(5, 3, kernel_size=(3, 3), stride=(1, 1))\n",
              ")"
            ]
          },
          "metadata": {},
          "execution_count": 49
        }
      ]
    },
    {
      "cell_type": "code",
      "source": [
        "# забираем алекснет и от него потом лезем дальше\n",
        "class autoencoder_Alexnet_base(nn.Module):\n",
        "    def __init__(self,AlexNet):\n",
        "        super().__init__()\n",
        "        # YOUR CODE\n",
        "        self.Encoder = AlexNet.features\n",
        "        # сколько каналов было столько оставляем\n",
        "        self.Conv_trans_1 = nn.ConvTranspose2d(in_channels=256,\n",
        "                               out_channels=128,\n",
        "                              kernel_size=(3,3))\n",
        "        self.Conv_trans_2 = nn.ConvTranspose2d(in_channels=128,\n",
        "                               out_channels=64,\n",
        "                              kernel_size=(3,3))\n",
        "        self.Conv_trans_3 = nn.ConvTranspose2d(in_channels=64,\n",
        "                               out_channels=32,\n",
        "                              kernel_size=(3,3))\n",
        "        self.Conv_trans_4 = nn.ConvTranspose2d(in_channels=32,\n",
        "                               out_channels=16,\n",
        "                              kernel_size=(3,3))\n",
        "        self.Conv_trans_5 = nn.ConvTranspose2d(in_channels=16,\n",
        "                               out_channels=8,\n",
        "                              kernel_size=(3,3))\n",
        "        self.Conv_trans_6 = nn.ConvTranspose2d(in_channels=8,\n",
        "                               out_channels=3,\n",
        "                              kernel_size=(3,3))\n",
        "\n",
        "\n",
        "\n",
        "\n",
        "    def forward(self, x):\n",
        "      # применили энкодер\n",
        "      encoder_value = self.Encoder(x)\n",
        "      # теперь нам надо картинку развернуть\n",
        "      x_decoder = self.Conv_trans_1(encoder_value)\n",
        "      x_decoder = nn.ReLU()(x_decoder)\n",
        "      #растим картинку не спеша\n",
        "      #избегаем bottle neck\n",
        "      x_decoder = F.interpolate(x_decoder, size=(9, 9),\n",
        "                          mode='bilinear')\n",
        "      x_decoder = self.Conv_trans_2(x_decoder)\n",
        "      x_decoder = nn.ReLU()(x_decoder)\n",
        "      x_decoder = F.interpolate(x_decoder, size=(24, 24),\n",
        "                          mode='bilinear')\n",
        "      x_decoder = self.Conv_trans_3(x_decoder)\n",
        "      x_decoder = nn.ReLU()(x_decoder)\n",
        "      x_decoder = F.interpolate(x_decoder, size=(72, 72),\n",
        "                          mode='bilinear')\n",
        "      x_decoder = self.Conv_trans_4(x_decoder)\n",
        "      x_decoder = nn.ReLU()(x_decoder)\n",
        "      x_decoder = F.interpolate(x_decoder, size=(100, 100),\n",
        "                          mode='bilinear')\n",
        "      x_decoder = self.Conv_trans_5(x_decoder)\n",
        "      x_decoder = nn.ReLU()(x_decoder)\n",
        "      x_decoder = F.interpolate(x_decoder, size=(120, 120),\n",
        "                          mode='bilinear')\n",
        "      x_decoder = self.Conv_trans_6(x_decoder)\n",
        "      x_decoder = nn.ReLU()(x_decoder)\n",
        "      x_decoder = F.interpolate(x_decoder, size=(150, 150),\n",
        "                          mode='bilinear')\n",
        "\n",
        "\n",
        "      # decoder_value = self.Decoder(encoder_value)\n",
        "\n",
        "\n",
        "        # YOUR CODE\n",
        "      return x_decoder"
      ],
      "metadata": {
        "id": "nqBRtCufJ86v"
      },
      "execution_count": 54,
      "outputs": []
    },
    {
      "cell_type": "code",
      "source": [
        "autoencoder_alexnet = autoencoder_Alexnet_base(AlexNet)\n",
        "autoencoder_alexnet(images).shape # проверяем на то, что получили правильную по размерам картинку\n"
      ],
      "metadata": {
        "colab": {
          "base_uri": "https://localhost:8080/"
        },
        "id": "-SimqSK6Ksog",
        "outputId": "bcecdfa6-fc2b-496f-adc9-66fdf68d6c7f"
      },
      "execution_count": 55,
      "outputs": [
        {
          "output_type": "execute_result",
          "data": {
            "text/plain": [
              "torch.Size([24, 3, 150, 150])"
            ]
          },
          "metadata": {},
          "execution_count": 55
        }
      ]
    },
    {
      "cell_type": "code",
      "source": [
        "train_autoencoder(autoencoder_alexnet)\n",
        "# учится шумно. Возможно есть смысл добавить batchnorm (но можете не добавлять)\n",
        "# еще вариант увеличить батч - можете тоже потестить"
      ],
      "metadata": {
        "colab": {
          "base_uri": "https://localhost:8080/",
          "height": 894,
          "referenced_widgets": [
            "244eb22ef95e466f9ba92b2d51866bf6",
            "1b143b72cc7e4887953063983da35d83",
            "e3d077e4ebd94215a20294001ddd5020",
            "42632b8ca58d48f2a88f787b9a86a9c3",
            "7bfa35330a2c4000b0676192e52d5429",
            "2f3b631c5f23425b9695552176c90c85",
            "5f7a87bab7974c6fbcbc6002b6f1c945",
            "5ef72f3f113a4a00a19c92adaae0598d",
            "41907610ffd24e98a2b455010d17ad84",
            "75ca57b5382747b1823704fa8b5d17f0",
            "a8721e846862460d885c51e21d059f81",
            "edbbeda3678f4c98a2e5370ddf9a0d46",
            "2b31c8c3034c4ab1a5c655914a966f21",
            "35c445f405bc4cc6ae2d1385fc4c3c01",
            "60a6fc50b43d48cea1aee47556129fc7",
            "82c1dabf2f814c92924e8bd518426168",
            "d18d016671db4bf7aafba2cbc50762c1",
            "052161e667854d90a84a19d4c8d58b24",
            "31ed4fe5b03544428358faa804044460",
            "4a0e4c2650934ca1b87ba0235ba9f9d1",
            "4fb5a805e38445879777327b7308783d",
            "b038c26540d8467b8187fe70eef26593"
          ]
        },
        "id": "eeczUvU2OdGD",
        "outputId": "1c7109e4-6660-49e0-d377-c6400351c9f8"
      },
      "execution_count": 56,
      "outputs": [
        {
          "output_type": "display_data",
          "data": {
            "text/plain": [
              "  0%|          | 0/5 [00:00<?, ?it/s]"
            ],
            "application/vnd.jupyter.widget-view+json": {
              "version_major": 2,
              "version_minor": 0,
              "model_id": "244eb22ef95e466f9ba92b2d51866bf6"
            }
          },
          "metadata": {}
        },
        {
          "output_type": "display_data",
          "data": {
            "text/plain": [
              "  0%|          | 0/439 [00:00<?, ?it/s]"
            ],
            "application/vnd.jupyter.widget-view+json": {
              "version_major": 2,
              "version_minor": 0,
              "model_id": "edbbeda3678f4c98a2e5370ddf9a0d46"
            }
          },
          "metadata": {}
        },
        {
          "output_type": "stream",
          "name": "stdout",
          "text": [
            "1.5824795961380005\n",
            "1.5037426948547363\n",
            "1.2708067893981934\n",
            "1.476659893989563\n",
            "1.25874924659729\n",
            "1.0891532897949219\n",
            "1.263258695602417\n",
            "1.2830426692962646\n",
            "1.1890743970870972\n",
            "1.0481581687927246\n",
            "1.1158661842346191\n",
            "1.0994447469711304\n",
            "1.0646576881408691\n",
            "1.0289006233215332\n",
            "0.9943468570709229\n",
            "0.9067144393920898\n",
            "1.0569941997528076\n",
            "0.9707063436508179\n",
            "0.9679073691368103\n",
            "0.8813045024871826\n",
            "0.927937924861908\n",
            "0.9898781180381775\n",
            "1.0392091274261475\n",
            "0.8931347131729126\n",
            "1.0910532474517822\n",
            "0.9549226760864258\n",
            "0.9921706914901733\n"
          ]
        },
        {
          "output_type": "error",
          "ename": "KeyboardInterrupt",
          "evalue": "ignored",
          "traceback": [
            "\u001b[0;31m---------------------------------------------------------------------------\u001b[0m",
            "\u001b[0;31mKeyboardInterrupt\u001b[0m                         Traceback (most recent call last)",
            "\u001b[0;32m<ipython-input-56-b356c315e2ba>\u001b[0m in \u001b[0;36m<cell line: 1>\u001b[0;34m()\u001b[0m\n\u001b[0;32m----> 1\u001b[0;31m \u001b[0mtrain_autoencoder\u001b[0m\u001b[0;34m(\u001b[0m\u001b[0mautoencoder_alexnet\u001b[0m\u001b[0;34m)\u001b[0m\u001b[0;34m\u001b[0m\u001b[0;34m\u001b[0m\u001b[0m\n\u001b[0m",
            "\u001b[0;32m<ipython-input-48-e53d558f871d>\u001b[0m in \u001b[0;36mtrain_autoencoder\u001b[0;34m(net, n_epoch)\u001b[0m\n\u001b[1;32m     20\u001b[0m \u001b[0;34m\u001b[0m\u001b[0m\n\u001b[1;32m     21\u001b[0m             \u001b[0;31m# forward pass (получение ответов на батч картинок)\u001b[0m\u001b[0;34m\u001b[0m\u001b[0;34m\u001b[0m\u001b[0m\n\u001b[0;32m---> 22\u001b[0;31m             \u001b[0my_pred\u001b[0m \u001b[0;34m=\u001b[0m \u001b[0mnet\u001b[0m\u001b[0;34m(\u001b[0m\u001b[0mX_batch\u001b[0m\u001b[0;34m)\u001b[0m\u001b[0;34m\u001b[0m\u001b[0;34m\u001b[0m\u001b[0m\n\u001b[0m\u001b[1;32m     23\u001b[0m             \u001b[0;31m# вычисление лосса от выданных сетью ответов и правильных ответов на батч\u001b[0m\u001b[0;34m\u001b[0m\u001b[0;34m\u001b[0m\u001b[0m\n\u001b[1;32m     24\u001b[0m             \u001b[0mloss\u001b[0m \u001b[0;34m=\u001b[0m \u001b[0mloss_fn\u001b[0m\u001b[0;34m(\u001b[0m\u001b[0my_pred\u001b[0m\u001b[0;34m,\u001b[0m \u001b[0mX_batch\u001b[0m\u001b[0;34m)\u001b[0m\u001b[0;34m\u001b[0m\u001b[0;34m\u001b[0m\u001b[0m\n",
            "\u001b[0;32m/usr/local/lib/python3.10/dist-packages/torch/nn/modules/module.py\u001b[0m in \u001b[0;36m_call_impl\u001b[0;34m(self, *args, **kwargs)\u001b[0m\n\u001b[1;32m   1499\u001b[0m                 \u001b[0;32mor\u001b[0m \u001b[0m_global_backward_pre_hooks\u001b[0m \u001b[0;32mor\u001b[0m \u001b[0m_global_backward_hooks\u001b[0m\u001b[0;34m\u001b[0m\u001b[0;34m\u001b[0m\u001b[0m\n\u001b[1;32m   1500\u001b[0m                 or _global_forward_hooks or _global_forward_pre_hooks):\n\u001b[0;32m-> 1501\u001b[0;31m             \u001b[0;32mreturn\u001b[0m \u001b[0mforward_call\u001b[0m\u001b[0;34m(\u001b[0m\u001b[0;34m*\u001b[0m\u001b[0margs\u001b[0m\u001b[0;34m,\u001b[0m \u001b[0;34m**\u001b[0m\u001b[0mkwargs\u001b[0m\u001b[0;34m)\u001b[0m\u001b[0;34m\u001b[0m\u001b[0;34m\u001b[0m\u001b[0m\n\u001b[0m\u001b[1;32m   1502\u001b[0m         \u001b[0;31m# Do not call functions when jit is used\u001b[0m\u001b[0;34m\u001b[0m\u001b[0;34m\u001b[0m\u001b[0m\n\u001b[1;32m   1503\u001b[0m         \u001b[0mfull_backward_hooks\u001b[0m\u001b[0;34m,\u001b[0m \u001b[0mnon_full_backward_hooks\u001b[0m \u001b[0;34m=\u001b[0m \u001b[0;34m[\u001b[0m\u001b[0;34m]\u001b[0m\u001b[0;34m,\u001b[0m \u001b[0;34m[\u001b[0m\u001b[0;34m]\u001b[0m\u001b[0;34m\u001b[0m\u001b[0;34m\u001b[0m\u001b[0m\n",
            "\u001b[0;32m<ipython-input-54-83393904b5ab>\u001b[0m in \u001b[0;36mforward\u001b[0;34m(self, x)\u001b[0m\n\u001b[1;32m     54\u001b[0m       x_decoder = F.interpolate(x_decoder, size=(120, 120),\n\u001b[1;32m     55\u001b[0m                           mode='bilinear')\n\u001b[0;32m---> 56\u001b[0;31m       \u001b[0mx_decoder\u001b[0m \u001b[0;34m=\u001b[0m \u001b[0mself\u001b[0m\u001b[0;34m.\u001b[0m\u001b[0mConv_trans_6\u001b[0m\u001b[0;34m(\u001b[0m\u001b[0mx_decoder\u001b[0m\u001b[0;34m)\u001b[0m\u001b[0;34m\u001b[0m\u001b[0;34m\u001b[0m\u001b[0m\n\u001b[0m\u001b[1;32m     57\u001b[0m       \u001b[0mx_decoder\u001b[0m \u001b[0;34m=\u001b[0m \u001b[0mnn\u001b[0m\u001b[0;34m.\u001b[0m\u001b[0mReLU\u001b[0m\u001b[0;34m(\u001b[0m\u001b[0;34m)\u001b[0m\u001b[0;34m(\u001b[0m\u001b[0mx_decoder\u001b[0m\u001b[0;34m)\u001b[0m\u001b[0;34m\u001b[0m\u001b[0;34m\u001b[0m\u001b[0m\n\u001b[1;32m     58\u001b[0m       x_decoder = F.interpolate(x_decoder, size=(150, 150),\n",
            "\u001b[0;32m/usr/local/lib/python3.10/dist-packages/torch/nn/modules/module.py\u001b[0m in \u001b[0;36m_call_impl\u001b[0;34m(self, *args, **kwargs)\u001b[0m\n\u001b[1;32m   1499\u001b[0m                 \u001b[0;32mor\u001b[0m \u001b[0m_global_backward_pre_hooks\u001b[0m \u001b[0;32mor\u001b[0m \u001b[0m_global_backward_hooks\u001b[0m\u001b[0;34m\u001b[0m\u001b[0;34m\u001b[0m\u001b[0m\n\u001b[1;32m   1500\u001b[0m                 or _global_forward_hooks or _global_forward_pre_hooks):\n\u001b[0;32m-> 1501\u001b[0;31m             \u001b[0;32mreturn\u001b[0m \u001b[0mforward_call\u001b[0m\u001b[0;34m(\u001b[0m\u001b[0;34m*\u001b[0m\u001b[0margs\u001b[0m\u001b[0;34m,\u001b[0m \u001b[0;34m**\u001b[0m\u001b[0mkwargs\u001b[0m\u001b[0;34m)\u001b[0m\u001b[0;34m\u001b[0m\u001b[0;34m\u001b[0m\u001b[0m\n\u001b[0m\u001b[1;32m   1502\u001b[0m         \u001b[0;31m# Do not call functions when jit is used\u001b[0m\u001b[0;34m\u001b[0m\u001b[0;34m\u001b[0m\u001b[0m\n\u001b[1;32m   1503\u001b[0m         \u001b[0mfull_backward_hooks\u001b[0m\u001b[0;34m,\u001b[0m \u001b[0mnon_full_backward_hooks\u001b[0m \u001b[0;34m=\u001b[0m \u001b[0;34m[\u001b[0m\u001b[0;34m]\u001b[0m\u001b[0;34m,\u001b[0m \u001b[0;34m[\u001b[0m\u001b[0;34m]\u001b[0m\u001b[0;34m\u001b[0m\u001b[0;34m\u001b[0m\u001b[0m\n",
            "\u001b[0;32m/usr/local/lib/python3.10/dist-packages/torch/nn/modules/conv.py\u001b[0m in \u001b[0;36mforward\u001b[0;34m(self, input, output_size)\u001b[0m\n\u001b[1;32m    954\u001b[0m             num_spatial_dims, self.dilation)  # type: ignore[arg-type]\n\u001b[1;32m    955\u001b[0m \u001b[0;34m\u001b[0m\u001b[0m\n\u001b[0;32m--> 956\u001b[0;31m         return F.conv_transpose2d(\n\u001b[0m\u001b[1;32m    957\u001b[0m             \u001b[0minput\u001b[0m\u001b[0;34m,\u001b[0m \u001b[0mself\u001b[0m\u001b[0;34m.\u001b[0m\u001b[0mweight\u001b[0m\u001b[0;34m,\u001b[0m \u001b[0mself\u001b[0m\u001b[0;34m.\u001b[0m\u001b[0mbias\u001b[0m\u001b[0;34m,\u001b[0m \u001b[0mself\u001b[0m\u001b[0;34m.\u001b[0m\u001b[0mstride\u001b[0m\u001b[0;34m,\u001b[0m \u001b[0mself\u001b[0m\u001b[0;34m.\u001b[0m\u001b[0mpadding\u001b[0m\u001b[0;34m,\u001b[0m\u001b[0;34m\u001b[0m\u001b[0;34m\u001b[0m\u001b[0m\n\u001b[1;32m    958\u001b[0m             output_padding, self.groups, self.dilation)\n",
            "\u001b[0;31mKeyboardInterrupt\u001b[0m: "
          ]
        }
      ]
    },
    {
      "cell_type": "markdown",
      "metadata": {
        "id": "H9egQ8zXer_J"
      },
      "source": [
        "**Задание 4.2 :**  Давайте отрубим голову декодера и используем под нашу задачу.\n"
      ]
    },
    {
      "cell_type": "code",
      "execution_count": null,
      "metadata": {
        "id": "wdJYyLpMer_J"
      },
      "outputs": [],
      "source": [
        "class Classifier_autoencoder_base(nn.Module):\n",
        "    def __init__(self):\n",
        "        super().__init__()\n",
        "        # YOUR CODE\n",
        "\n",
        "    def forward(self, x):\n",
        "\n",
        "        # YOUR CODE\n",
        "\n",
        "        return x"
      ]
    },
    {
      "cell_type": "markdown",
      "metadata": {
        "id": "4JN_n7Dser_J"
      },
      "source": [
        "###### Что мы не рассматривали в этом ноутбуке, но в целом говорили.\n",
        "Инициализация хорошим распределением\n",
        "Скип-коннектионш\n",
        "Разные оптимизаторы и работа с самим оптимизатором"
      ]
    },
    {
      "cell_type": "code",
      "source": [
        " #  тут код для разбивки данных на трейн и тест (если вы хотите это сделать сами)\n",
        "\n",
        "!ls data_conv/"
      ],
      "metadata": {
        "id": "L_aDXcL1Hvqd"
      },
      "execution_count": null,
      "outputs": []
    },
    {
      "cell_type": "code",
      "source": [
        "import os\n",
        "import shutil"
      ],
      "metadata": {
        "id": "Vf2dg1sTHAb4"
      },
      "execution_count": null,
      "outputs": []
    },
    {
      "cell_type": "code",
      "source": [
        "list_of_train = os.listdir('data_conv/seg_train')"
      ],
      "metadata": {
        "id": "43DUu0bUH1Xa"
      },
      "execution_count": null,
      "outputs": []
    },
    {
      "cell_type": "code",
      "source": [
        "list_of_train"
      ],
      "metadata": {
        "id": "PYXIh68DISc3"
      },
      "execution_count": null,
      "outputs": []
    },
    {
      "cell_type": "code",
      "source": [
        "!mkdir data_conv/seg_valid"
      ],
      "metadata": {
        "id": "lpJvEl36H3C4"
      },
      "execution_count": null,
      "outputs": []
    },
    {
      "cell_type": "code",
      "source": [
        "num_val_images_per_label = 10"
      ],
      "metadata": {
        "id": "BbbshIDrIfh6"
      },
      "execution_count": null,
      "outputs": []
    },
    {
      "cell_type": "code",
      "execution_count": null,
      "metadata": {
        "id": "7TcGt9I3er_J"
      },
      "outputs": [],
      "source": [
        "list_of_train = os.listdir('data_conv/seg_train') # смотрим на папочки которые мы должны использовать\n",
        "train_folder_name = 'data_conv/seg_train'\n",
        "val_folder_name = 'data_conv/seg_valid' #папка где должны лежать вал данные\n",
        "os.mkdir(val_folder_name) # создаем папочку\n",
        "for folder in list_of_train:\n",
        "  list_of_files = os.listdir(train_folder_name+folder)\n",
        "  os.mkdir(val_folder_name+'/'+folder) # создаем папочку\n",
        "  val_list_files = np.random.choice(list_of_files,\n",
        "                                    size=num_val_images_per_label,\n",
        "                                    replace=False)\n",
        "  for file in val_list_files:\n",
        "      shutil.move(train_folder_name+'/'+folder+'/'+file,\n",
        "                  val_folder_name+'/'+folder+'/'+file)\n",
        "\n",
        "\n"
      ]
    },
    {
      "cell_type": "code",
      "execution_count": null,
      "metadata": {
        "id": "Qa0Tm9xwer_J"
      },
      "outputs": [],
      "source": []
    }
  ],
  "metadata": {
    "accelerator": "GPU",
    "colab": {
      "provenance": []
    },
    "kernelspec": {
      "display_name": "Python 3",
      "language": "python",
      "name": "python3"
    },
    "language_info": {
      "codemirror_mode": {
        "name": "ipython",
        "version": 3
      },
      "file_extension": ".py",
      "mimetype": "text/x-python",
      "name": "python",
      "nbconvert_exporter": "python",
      "pygments_lexer": "ipython3",
      "version": "3.7.3"
    },
    "widgets": {
      "application/vnd.jupyter.widget-state+json": {
        "9a9ed6641f6d4563bc5c422500301760": {
          "model_module": "@jupyter-widgets/controls",
          "model_name": "HBoxModel",
          "model_module_version": "1.5.0",
          "state": {
            "_dom_classes": [],
            "_model_module": "@jupyter-widgets/controls",
            "_model_module_version": "1.5.0",
            "_model_name": "HBoxModel",
            "_view_count": null,
            "_view_module": "@jupyter-widgets/controls",
            "_view_module_version": "1.5.0",
            "_view_name": "HBoxView",
            "box_style": "",
            "children": [
              "IPY_MODEL_5903b240f8054d92811440166932d054",
              "IPY_MODEL_86541a3ed9da40d7a73c5aa7ef2aa370",
              "IPY_MODEL_5943e06194a84e0aa6418e20932e0b4e"
            ],
            "layout": "IPY_MODEL_16ed643e2fc54a3194cbeb8a3fc9453a"
          }
        },
        "5903b240f8054d92811440166932d054": {
          "model_module": "@jupyter-widgets/controls",
          "model_name": "HTMLModel",
          "model_module_version": "1.5.0",
          "state": {
            "_dom_classes": [],
            "_model_module": "@jupyter-widgets/controls",
            "_model_module_version": "1.5.0",
            "_model_name": "HTMLModel",
            "_view_count": null,
            "_view_module": "@jupyter-widgets/controls",
            "_view_module_version": "1.5.0",
            "_view_name": "HTMLView",
            "description": "",
            "description_tooltip": null,
            "layout": "IPY_MODEL_485355a742db4310afe3e2f7c50ada6a",
            "placeholder": "​",
            "style": "IPY_MODEL_e2542343739746dfa9049b3ceff2c36c",
            "value": "  0%"
          }
        },
        "86541a3ed9da40d7a73c5aa7ef2aa370": {
          "model_module": "@jupyter-widgets/controls",
          "model_name": "FloatProgressModel",
          "model_module_version": "1.5.0",
          "state": {
            "_dom_classes": [],
            "_model_module": "@jupyter-widgets/controls",
            "_model_module_version": "1.5.0",
            "_model_name": "FloatProgressModel",
            "_view_count": null,
            "_view_module": "@jupyter-widgets/controls",
            "_view_module_version": "1.5.0",
            "_view_name": "ProgressView",
            "bar_style": "danger",
            "description": "",
            "description_tooltip": null,
            "layout": "IPY_MODEL_1aec907b38e54a77aaf69e14e36109ef",
            "max": 3,
            "min": 0,
            "orientation": "horizontal",
            "style": "IPY_MODEL_90594cb285e94c71819a6cd40fba0529",
            "value": 0
          }
        },
        "5943e06194a84e0aa6418e20932e0b4e": {
          "model_module": "@jupyter-widgets/controls",
          "model_name": "HTMLModel",
          "model_module_version": "1.5.0",
          "state": {
            "_dom_classes": [],
            "_model_module": "@jupyter-widgets/controls",
            "_model_module_version": "1.5.0",
            "_model_name": "HTMLModel",
            "_view_count": null,
            "_view_module": "@jupyter-widgets/controls",
            "_view_module_version": "1.5.0",
            "_view_name": "HTMLView",
            "description": "",
            "description_tooltip": null,
            "layout": "IPY_MODEL_dd6145d1a582489981d78381c34bf36b",
            "placeholder": "​",
            "style": "IPY_MODEL_08546918820f410caa58b69ca9f5bff5",
            "value": " 0/3 [01:32&lt;?, ?it/s]"
          }
        },
        "16ed643e2fc54a3194cbeb8a3fc9453a": {
          "model_module": "@jupyter-widgets/base",
          "model_name": "LayoutModel",
          "model_module_version": "1.2.0",
          "state": {
            "_model_module": "@jupyter-widgets/base",
            "_model_module_version": "1.2.0",
            "_model_name": "LayoutModel",
            "_view_count": null,
            "_view_module": "@jupyter-widgets/base",
            "_view_module_version": "1.2.0",
            "_view_name": "LayoutView",
            "align_content": null,
            "align_items": null,
            "align_self": null,
            "border": null,
            "bottom": null,
            "display": null,
            "flex": null,
            "flex_flow": null,
            "grid_area": null,
            "grid_auto_columns": null,
            "grid_auto_flow": null,
            "grid_auto_rows": null,
            "grid_column": null,
            "grid_gap": null,
            "grid_row": null,
            "grid_template_areas": null,
            "grid_template_columns": null,
            "grid_template_rows": null,
            "height": null,
            "justify_content": null,
            "justify_items": null,
            "left": null,
            "margin": null,
            "max_height": null,
            "max_width": null,
            "min_height": null,
            "min_width": null,
            "object_fit": null,
            "object_position": null,
            "order": null,
            "overflow": null,
            "overflow_x": null,
            "overflow_y": null,
            "padding": null,
            "right": null,
            "top": null,
            "visibility": null,
            "width": null
          }
        },
        "485355a742db4310afe3e2f7c50ada6a": {
          "model_module": "@jupyter-widgets/base",
          "model_name": "LayoutModel",
          "model_module_version": "1.2.0",
          "state": {
            "_model_module": "@jupyter-widgets/base",
            "_model_module_version": "1.2.0",
            "_model_name": "LayoutModel",
            "_view_count": null,
            "_view_module": "@jupyter-widgets/base",
            "_view_module_version": "1.2.0",
            "_view_name": "LayoutView",
            "align_content": null,
            "align_items": null,
            "align_self": null,
            "border": null,
            "bottom": null,
            "display": null,
            "flex": null,
            "flex_flow": null,
            "grid_area": null,
            "grid_auto_columns": null,
            "grid_auto_flow": null,
            "grid_auto_rows": null,
            "grid_column": null,
            "grid_gap": null,
            "grid_row": null,
            "grid_template_areas": null,
            "grid_template_columns": null,
            "grid_template_rows": null,
            "height": null,
            "justify_content": null,
            "justify_items": null,
            "left": null,
            "margin": null,
            "max_height": null,
            "max_width": null,
            "min_height": null,
            "min_width": null,
            "object_fit": null,
            "object_position": null,
            "order": null,
            "overflow": null,
            "overflow_x": null,
            "overflow_y": null,
            "padding": null,
            "right": null,
            "top": null,
            "visibility": null,
            "width": null
          }
        },
        "e2542343739746dfa9049b3ceff2c36c": {
          "model_module": "@jupyter-widgets/controls",
          "model_name": "DescriptionStyleModel",
          "model_module_version": "1.5.0",
          "state": {
            "_model_module": "@jupyter-widgets/controls",
            "_model_module_version": "1.5.0",
            "_model_name": "DescriptionStyleModel",
            "_view_count": null,
            "_view_module": "@jupyter-widgets/base",
            "_view_module_version": "1.2.0",
            "_view_name": "StyleView",
            "description_width": ""
          }
        },
        "1aec907b38e54a77aaf69e14e36109ef": {
          "model_module": "@jupyter-widgets/base",
          "model_name": "LayoutModel",
          "model_module_version": "1.2.0",
          "state": {
            "_model_module": "@jupyter-widgets/base",
            "_model_module_version": "1.2.0",
            "_model_name": "LayoutModel",
            "_view_count": null,
            "_view_module": "@jupyter-widgets/base",
            "_view_module_version": "1.2.0",
            "_view_name": "LayoutView",
            "align_content": null,
            "align_items": null,
            "align_self": null,
            "border": null,
            "bottom": null,
            "display": null,
            "flex": null,
            "flex_flow": null,
            "grid_area": null,
            "grid_auto_columns": null,
            "grid_auto_flow": null,
            "grid_auto_rows": null,
            "grid_column": null,
            "grid_gap": null,
            "grid_row": null,
            "grid_template_areas": null,
            "grid_template_columns": null,
            "grid_template_rows": null,
            "height": null,
            "justify_content": null,
            "justify_items": null,
            "left": null,
            "margin": null,
            "max_height": null,
            "max_width": null,
            "min_height": null,
            "min_width": null,
            "object_fit": null,
            "object_position": null,
            "order": null,
            "overflow": null,
            "overflow_x": null,
            "overflow_y": null,
            "padding": null,
            "right": null,
            "top": null,
            "visibility": null,
            "width": null
          }
        },
        "90594cb285e94c71819a6cd40fba0529": {
          "model_module": "@jupyter-widgets/controls",
          "model_name": "ProgressStyleModel",
          "model_module_version": "1.5.0",
          "state": {
            "_model_module": "@jupyter-widgets/controls",
            "_model_module_version": "1.5.0",
            "_model_name": "ProgressStyleModel",
            "_view_count": null,
            "_view_module": "@jupyter-widgets/base",
            "_view_module_version": "1.2.0",
            "_view_name": "StyleView",
            "bar_color": null,
            "description_width": ""
          }
        },
        "dd6145d1a582489981d78381c34bf36b": {
          "model_module": "@jupyter-widgets/base",
          "model_name": "LayoutModel",
          "model_module_version": "1.2.0",
          "state": {
            "_model_module": "@jupyter-widgets/base",
            "_model_module_version": "1.2.0",
            "_model_name": "LayoutModel",
            "_view_count": null,
            "_view_module": "@jupyter-widgets/base",
            "_view_module_version": "1.2.0",
            "_view_name": "LayoutView",
            "align_content": null,
            "align_items": null,
            "align_self": null,
            "border": null,
            "bottom": null,
            "display": null,
            "flex": null,
            "flex_flow": null,
            "grid_area": null,
            "grid_auto_columns": null,
            "grid_auto_flow": null,
            "grid_auto_rows": null,
            "grid_column": null,
            "grid_gap": null,
            "grid_row": null,
            "grid_template_areas": null,
            "grid_template_columns": null,
            "grid_template_rows": null,
            "height": null,
            "justify_content": null,
            "justify_items": null,
            "left": null,
            "margin": null,
            "max_height": null,
            "max_width": null,
            "min_height": null,
            "min_width": null,
            "object_fit": null,
            "object_position": null,
            "order": null,
            "overflow": null,
            "overflow_x": null,
            "overflow_y": null,
            "padding": null,
            "right": null,
            "top": null,
            "visibility": null,
            "width": null
          }
        },
        "08546918820f410caa58b69ca9f5bff5": {
          "model_module": "@jupyter-widgets/controls",
          "model_name": "DescriptionStyleModel",
          "model_module_version": "1.5.0",
          "state": {
            "_model_module": "@jupyter-widgets/controls",
            "_model_module_version": "1.5.0",
            "_model_name": "DescriptionStyleModel",
            "_view_count": null,
            "_view_module": "@jupyter-widgets/base",
            "_view_module_version": "1.2.0",
            "_view_name": "StyleView",
            "description_width": ""
          }
        },
        "cae9489336fc464fa1cf5ca7455631c2": {
          "model_module": "@jupyter-widgets/controls",
          "model_name": "HBoxModel",
          "model_module_version": "1.5.0",
          "state": {
            "_dom_classes": [],
            "_model_module": "@jupyter-widgets/controls",
            "_model_module_version": "1.5.0",
            "_model_name": "HBoxModel",
            "_view_count": null,
            "_view_module": "@jupyter-widgets/controls",
            "_view_module_version": "1.5.0",
            "_view_name": "HBoxView",
            "box_style": "",
            "children": [
              "IPY_MODEL_f95753a43cb04326a3520b573545405e",
              "IPY_MODEL_3efbb6195f164a80a3285a027c7157a7",
              "IPY_MODEL_a6b53effa93f487eae8c6c83a62997b4"
            ],
            "layout": "IPY_MODEL_4451fc38d9b84d4f81d717753afb1acb"
          }
        },
        "f95753a43cb04326a3520b573545405e": {
          "model_module": "@jupyter-widgets/controls",
          "model_name": "HTMLModel",
          "model_module_version": "1.5.0",
          "state": {
            "_dom_classes": [],
            "_model_module": "@jupyter-widgets/controls",
            "_model_module_version": "1.5.0",
            "_model_name": "HTMLModel",
            "_view_count": null,
            "_view_module": "@jupyter-widgets/controls",
            "_view_module_version": "1.5.0",
            "_view_name": "HTMLView",
            "description": "",
            "description_tooltip": null,
            "layout": "IPY_MODEL_53476ab0d88648859ffb43e4ab1d8bc9",
            "placeholder": "​",
            "style": "IPY_MODEL_bc0e3a9d3fd247a7aeb0fbc91453d8a9",
            "value": "100%"
          }
        },
        "3efbb6195f164a80a3285a027c7157a7": {
          "model_module": "@jupyter-widgets/controls",
          "model_name": "FloatProgressModel",
          "model_module_version": "1.5.0",
          "state": {
            "_dom_classes": [],
            "_model_module": "@jupyter-widgets/controls",
            "_model_module_version": "1.5.0",
            "_model_name": "FloatProgressModel",
            "_view_count": null,
            "_view_module": "@jupyter-widgets/controls",
            "_view_module_version": "1.5.0",
            "_view_name": "ProgressView",
            "bar_style": "success",
            "description": "",
            "description_tooltip": null,
            "layout": "IPY_MODEL_474e1581fd544af89d73c5a38c216b9f",
            "max": 439,
            "min": 0,
            "orientation": "horizontal",
            "style": "IPY_MODEL_4c1a557940a6496ea999fbb6822a3142",
            "value": 439
          }
        },
        "a6b53effa93f487eae8c6c83a62997b4": {
          "model_module": "@jupyter-widgets/controls",
          "model_name": "HTMLModel",
          "model_module_version": "1.5.0",
          "state": {
            "_dom_classes": [],
            "_model_module": "@jupyter-widgets/controls",
            "_model_module_version": "1.5.0",
            "_model_name": "HTMLModel",
            "_view_count": null,
            "_view_module": "@jupyter-widgets/controls",
            "_view_module_version": "1.5.0",
            "_view_name": "HTMLView",
            "description": "",
            "description_tooltip": null,
            "layout": "IPY_MODEL_f668da93d27344f1a3523c3faa353dea",
            "placeholder": "​",
            "style": "IPY_MODEL_51593d617b764f0ea55a70bf1cdb5986",
            "value": " 439/439 [01:32&lt;00:00,  3.35it/s]"
          }
        },
        "4451fc38d9b84d4f81d717753afb1acb": {
          "model_module": "@jupyter-widgets/base",
          "model_name": "LayoutModel",
          "model_module_version": "1.2.0",
          "state": {
            "_model_module": "@jupyter-widgets/base",
            "_model_module_version": "1.2.0",
            "_model_name": "LayoutModel",
            "_view_count": null,
            "_view_module": "@jupyter-widgets/base",
            "_view_module_version": "1.2.0",
            "_view_name": "LayoutView",
            "align_content": null,
            "align_items": null,
            "align_self": null,
            "border": null,
            "bottom": null,
            "display": null,
            "flex": null,
            "flex_flow": null,
            "grid_area": null,
            "grid_auto_columns": null,
            "grid_auto_flow": null,
            "grid_auto_rows": null,
            "grid_column": null,
            "grid_gap": null,
            "grid_row": null,
            "grid_template_areas": null,
            "grid_template_columns": null,
            "grid_template_rows": null,
            "height": null,
            "justify_content": null,
            "justify_items": null,
            "left": null,
            "margin": null,
            "max_height": null,
            "max_width": null,
            "min_height": null,
            "min_width": null,
            "object_fit": null,
            "object_position": null,
            "order": null,
            "overflow": null,
            "overflow_x": null,
            "overflow_y": null,
            "padding": null,
            "right": null,
            "top": null,
            "visibility": null,
            "width": null
          }
        },
        "53476ab0d88648859ffb43e4ab1d8bc9": {
          "model_module": "@jupyter-widgets/base",
          "model_name": "LayoutModel",
          "model_module_version": "1.2.0",
          "state": {
            "_model_module": "@jupyter-widgets/base",
            "_model_module_version": "1.2.0",
            "_model_name": "LayoutModel",
            "_view_count": null,
            "_view_module": "@jupyter-widgets/base",
            "_view_module_version": "1.2.0",
            "_view_name": "LayoutView",
            "align_content": null,
            "align_items": null,
            "align_self": null,
            "border": null,
            "bottom": null,
            "display": null,
            "flex": null,
            "flex_flow": null,
            "grid_area": null,
            "grid_auto_columns": null,
            "grid_auto_flow": null,
            "grid_auto_rows": null,
            "grid_column": null,
            "grid_gap": null,
            "grid_row": null,
            "grid_template_areas": null,
            "grid_template_columns": null,
            "grid_template_rows": null,
            "height": null,
            "justify_content": null,
            "justify_items": null,
            "left": null,
            "margin": null,
            "max_height": null,
            "max_width": null,
            "min_height": null,
            "min_width": null,
            "object_fit": null,
            "object_position": null,
            "order": null,
            "overflow": null,
            "overflow_x": null,
            "overflow_y": null,
            "padding": null,
            "right": null,
            "top": null,
            "visibility": null,
            "width": null
          }
        },
        "bc0e3a9d3fd247a7aeb0fbc91453d8a9": {
          "model_module": "@jupyter-widgets/controls",
          "model_name": "DescriptionStyleModel",
          "model_module_version": "1.5.0",
          "state": {
            "_model_module": "@jupyter-widgets/controls",
            "_model_module_version": "1.5.0",
            "_model_name": "DescriptionStyleModel",
            "_view_count": null,
            "_view_module": "@jupyter-widgets/base",
            "_view_module_version": "1.2.0",
            "_view_name": "StyleView",
            "description_width": ""
          }
        },
        "474e1581fd544af89d73c5a38c216b9f": {
          "model_module": "@jupyter-widgets/base",
          "model_name": "LayoutModel",
          "model_module_version": "1.2.0",
          "state": {
            "_model_module": "@jupyter-widgets/base",
            "_model_module_version": "1.2.0",
            "_model_name": "LayoutModel",
            "_view_count": null,
            "_view_module": "@jupyter-widgets/base",
            "_view_module_version": "1.2.0",
            "_view_name": "LayoutView",
            "align_content": null,
            "align_items": null,
            "align_self": null,
            "border": null,
            "bottom": null,
            "display": null,
            "flex": null,
            "flex_flow": null,
            "grid_area": null,
            "grid_auto_columns": null,
            "grid_auto_flow": null,
            "grid_auto_rows": null,
            "grid_column": null,
            "grid_gap": null,
            "grid_row": null,
            "grid_template_areas": null,
            "grid_template_columns": null,
            "grid_template_rows": null,
            "height": null,
            "justify_content": null,
            "justify_items": null,
            "left": null,
            "margin": null,
            "max_height": null,
            "max_width": null,
            "min_height": null,
            "min_width": null,
            "object_fit": null,
            "object_position": null,
            "order": null,
            "overflow": null,
            "overflow_x": null,
            "overflow_y": null,
            "padding": null,
            "right": null,
            "top": null,
            "visibility": null,
            "width": null
          }
        },
        "4c1a557940a6496ea999fbb6822a3142": {
          "model_module": "@jupyter-widgets/controls",
          "model_name": "ProgressStyleModel",
          "model_module_version": "1.5.0",
          "state": {
            "_model_module": "@jupyter-widgets/controls",
            "_model_module_version": "1.5.0",
            "_model_name": "ProgressStyleModel",
            "_view_count": null,
            "_view_module": "@jupyter-widgets/base",
            "_view_module_version": "1.2.0",
            "_view_name": "StyleView",
            "bar_color": null,
            "description_width": ""
          }
        },
        "f668da93d27344f1a3523c3faa353dea": {
          "model_module": "@jupyter-widgets/base",
          "model_name": "LayoutModel",
          "model_module_version": "1.2.0",
          "state": {
            "_model_module": "@jupyter-widgets/base",
            "_model_module_version": "1.2.0",
            "_model_name": "LayoutModel",
            "_view_count": null,
            "_view_module": "@jupyter-widgets/base",
            "_view_module_version": "1.2.0",
            "_view_name": "LayoutView",
            "align_content": null,
            "align_items": null,
            "align_self": null,
            "border": null,
            "bottom": null,
            "display": null,
            "flex": null,
            "flex_flow": null,
            "grid_area": null,
            "grid_auto_columns": null,
            "grid_auto_flow": null,
            "grid_auto_rows": null,
            "grid_column": null,
            "grid_gap": null,
            "grid_row": null,
            "grid_template_areas": null,
            "grid_template_columns": null,
            "grid_template_rows": null,
            "height": null,
            "justify_content": null,
            "justify_items": null,
            "left": null,
            "margin": null,
            "max_height": null,
            "max_width": null,
            "min_height": null,
            "min_width": null,
            "object_fit": null,
            "object_position": null,
            "order": null,
            "overflow": null,
            "overflow_x": null,
            "overflow_y": null,
            "padding": null,
            "right": null,
            "top": null,
            "visibility": null,
            "width": null
          }
        },
        "51593d617b764f0ea55a70bf1cdb5986": {
          "model_module": "@jupyter-widgets/controls",
          "model_name": "DescriptionStyleModel",
          "model_module_version": "1.5.0",
          "state": {
            "_model_module": "@jupyter-widgets/controls",
            "_model_module_version": "1.5.0",
            "_model_name": "DescriptionStyleModel",
            "_view_count": null,
            "_view_module": "@jupyter-widgets/base",
            "_view_module_version": "1.2.0",
            "_view_name": "StyleView",
            "description_width": ""
          }
        },
        "1c1764098c2e4648935e64940ee9c179": {
          "model_module": "@jupyter-widgets/controls",
          "model_name": "HBoxModel",
          "model_module_version": "1.5.0",
          "state": {
            "_dom_classes": [],
            "_model_module": "@jupyter-widgets/controls",
            "_model_module_version": "1.5.0",
            "_model_name": "HBoxModel",
            "_view_count": null,
            "_view_module": "@jupyter-widgets/controls",
            "_view_module_version": "1.5.0",
            "_view_name": "HBoxView",
            "box_style": "",
            "children": [
              "IPY_MODEL_06329e5df6564191a950278f6c5c864f",
              "IPY_MODEL_3d5294f168854a24bd004d63398eba1f",
              "IPY_MODEL_df0399b7310b401da386da9d2bab7be7"
            ],
            "layout": "IPY_MODEL_f8105346485a4b7ab0953558ac63762b"
          }
        },
        "06329e5df6564191a950278f6c5c864f": {
          "model_module": "@jupyter-widgets/controls",
          "model_name": "HTMLModel",
          "model_module_version": "1.5.0",
          "state": {
            "_dom_classes": [],
            "_model_module": "@jupyter-widgets/controls",
            "_model_module_version": "1.5.0",
            "_model_name": "HTMLModel",
            "_view_count": null,
            "_view_module": "@jupyter-widgets/controls",
            "_view_module_version": "1.5.0",
            "_view_name": "HTMLView",
            "description": "",
            "description_tooltip": null,
            "layout": "IPY_MODEL_696c537a8f61433ebcaeeacb328edf5f",
            "placeholder": "​",
            "style": "IPY_MODEL_6030c47380874c00a1fd6d145ae559e0",
            "value": "  0%"
          }
        },
        "3d5294f168854a24bd004d63398eba1f": {
          "model_module": "@jupyter-widgets/controls",
          "model_name": "FloatProgressModel",
          "model_module_version": "1.5.0",
          "state": {
            "_dom_classes": [],
            "_model_module": "@jupyter-widgets/controls",
            "_model_module_version": "1.5.0",
            "_model_name": "FloatProgressModel",
            "_view_count": null,
            "_view_module": "@jupyter-widgets/controls",
            "_view_module_version": "1.5.0",
            "_view_name": "ProgressView",
            "bar_style": "danger",
            "description": "",
            "description_tooltip": null,
            "layout": "IPY_MODEL_0a712016469d4e95873f268baddc4e95",
            "max": 1,
            "min": 0,
            "orientation": "horizontal",
            "style": "IPY_MODEL_18b7efc65fc6438ba8fe00e8a792a493",
            "value": 0
          }
        },
        "df0399b7310b401da386da9d2bab7be7": {
          "model_module": "@jupyter-widgets/controls",
          "model_name": "HTMLModel",
          "model_module_version": "1.5.0",
          "state": {
            "_dom_classes": [],
            "_model_module": "@jupyter-widgets/controls",
            "_model_module_version": "1.5.0",
            "_model_name": "HTMLModel",
            "_view_count": null,
            "_view_module": "@jupyter-widgets/controls",
            "_view_module_version": "1.5.0",
            "_view_name": "HTMLView",
            "description": "",
            "description_tooltip": null,
            "layout": "IPY_MODEL_10851dd187324bd78dfd96b1f717758a",
            "placeholder": "​",
            "style": "IPY_MODEL_48a2e143e2af4f22ba7ef3f8a2ca4855",
            "value": " 0/1 [01:51&lt;?, ?it/s]"
          }
        },
        "f8105346485a4b7ab0953558ac63762b": {
          "model_module": "@jupyter-widgets/base",
          "model_name": "LayoutModel",
          "model_module_version": "1.2.0",
          "state": {
            "_model_module": "@jupyter-widgets/base",
            "_model_module_version": "1.2.0",
            "_model_name": "LayoutModel",
            "_view_count": null,
            "_view_module": "@jupyter-widgets/base",
            "_view_module_version": "1.2.0",
            "_view_name": "LayoutView",
            "align_content": null,
            "align_items": null,
            "align_self": null,
            "border": null,
            "bottom": null,
            "display": null,
            "flex": null,
            "flex_flow": null,
            "grid_area": null,
            "grid_auto_columns": null,
            "grid_auto_flow": null,
            "grid_auto_rows": null,
            "grid_column": null,
            "grid_gap": null,
            "grid_row": null,
            "grid_template_areas": null,
            "grid_template_columns": null,
            "grid_template_rows": null,
            "height": null,
            "justify_content": null,
            "justify_items": null,
            "left": null,
            "margin": null,
            "max_height": null,
            "max_width": null,
            "min_height": null,
            "min_width": null,
            "object_fit": null,
            "object_position": null,
            "order": null,
            "overflow": null,
            "overflow_x": null,
            "overflow_y": null,
            "padding": null,
            "right": null,
            "top": null,
            "visibility": null,
            "width": null
          }
        },
        "696c537a8f61433ebcaeeacb328edf5f": {
          "model_module": "@jupyter-widgets/base",
          "model_name": "LayoutModel",
          "model_module_version": "1.2.0",
          "state": {
            "_model_module": "@jupyter-widgets/base",
            "_model_module_version": "1.2.0",
            "_model_name": "LayoutModel",
            "_view_count": null,
            "_view_module": "@jupyter-widgets/base",
            "_view_module_version": "1.2.0",
            "_view_name": "LayoutView",
            "align_content": null,
            "align_items": null,
            "align_self": null,
            "border": null,
            "bottom": null,
            "display": null,
            "flex": null,
            "flex_flow": null,
            "grid_area": null,
            "grid_auto_columns": null,
            "grid_auto_flow": null,
            "grid_auto_rows": null,
            "grid_column": null,
            "grid_gap": null,
            "grid_row": null,
            "grid_template_areas": null,
            "grid_template_columns": null,
            "grid_template_rows": null,
            "height": null,
            "justify_content": null,
            "justify_items": null,
            "left": null,
            "margin": null,
            "max_height": null,
            "max_width": null,
            "min_height": null,
            "min_width": null,
            "object_fit": null,
            "object_position": null,
            "order": null,
            "overflow": null,
            "overflow_x": null,
            "overflow_y": null,
            "padding": null,
            "right": null,
            "top": null,
            "visibility": null,
            "width": null
          }
        },
        "6030c47380874c00a1fd6d145ae559e0": {
          "model_module": "@jupyter-widgets/controls",
          "model_name": "DescriptionStyleModel",
          "model_module_version": "1.5.0",
          "state": {
            "_model_module": "@jupyter-widgets/controls",
            "_model_module_version": "1.5.0",
            "_model_name": "DescriptionStyleModel",
            "_view_count": null,
            "_view_module": "@jupyter-widgets/base",
            "_view_module_version": "1.2.0",
            "_view_name": "StyleView",
            "description_width": ""
          }
        },
        "0a712016469d4e95873f268baddc4e95": {
          "model_module": "@jupyter-widgets/base",
          "model_name": "LayoutModel",
          "model_module_version": "1.2.0",
          "state": {
            "_model_module": "@jupyter-widgets/base",
            "_model_module_version": "1.2.0",
            "_model_name": "LayoutModel",
            "_view_count": null,
            "_view_module": "@jupyter-widgets/base",
            "_view_module_version": "1.2.0",
            "_view_name": "LayoutView",
            "align_content": null,
            "align_items": null,
            "align_self": null,
            "border": null,
            "bottom": null,
            "display": null,
            "flex": null,
            "flex_flow": null,
            "grid_area": null,
            "grid_auto_columns": null,
            "grid_auto_flow": null,
            "grid_auto_rows": null,
            "grid_column": null,
            "grid_gap": null,
            "grid_row": null,
            "grid_template_areas": null,
            "grid_template_columns": null,
            "grid_template_rows": null,
            "height": null,
            "justify_content": null,
            "justify_items": null,
            "left": null,
            "margin": null,
            "max_height": null,
            "max_width": null,
            "min_height": null,
            "min_width": null,
            "object_fit": null,
            "object_position": null,
            "order": null,
            "overflow": null,
            "overflow_x": null,
            "overflow_y": null,
            "padding": null,
            "right": null,
            "top": null,
            "visibility": null,
            "width": null
          }
        },
        "18b7efc65fc6438ba8fe00e8a792a493": {
          "model_module": "@jupyter-widgets/controls",
          "model_name": "ProgressStyleModel",
          "model_module_version": "1.5.0",
          "state": {
            "_model_module": "@jupyter-widgets/controls",
            "_model_module_version": "1.5.0",
            "_model_name": "ProgressStyleModel",
            "_view_count": null,
            "_view_module": "@jupyter-widgets/base",
            "_view_module_version": "1.2.0",
            "_view_name": "StyleView",
            "bar_color": null,
            "description_width": ""
          }
        },
        "10851dd187324bd78dfd96b1f717758a": {
          "model_module": "@jupyter-widgets/base",
          "model_name": "LayoutModel",
          "model_module_version": "1.2.0",
          "state": {
            "_model_module": "@jupyter-widgets/base",
            "_model_module_version": "1.2.0",
            "_model_name": "LayoutModel",
            "_view_count": null,
            "_view_module": "@jupyter-widgets/base",
            "_view_module_version": "1.2.0",
            "_view_name": "LayoutView",
            "align_content": null,
            "align_items": null,
            "align_self": null,
            "border": null,
            "bottom": null,
            "display": null,
            "flex": null,
            "flex_flow": null,
            "grid_area": null,
            "grid_auto_columns": null,
            "grid_auto_flow": null,
            "grid_auto_rows": null,
            "grid_column": null,
            "grid_gap": null,
            "grid_row": null,
            "grid_template_areas": null,
            "grid_template_columns": null,
            "grid_template_rows": null,
            "height": null,
            "justify_content": null,
            "justify_items": null,
            "left": null,
            "margin": null,
            "max_height": null,
            "max_width": null,
            "min_height": null,
            "min_width": null,
            "object_fit": null,
            "object_position": null,
            "order": null,
            "overflow": null,
            "overflow_x": null,
            "overflow_y": null,
            "padding": null,
            "right": null,
            "top": null,
            "visibility": null,
            "width": null
          }
        },
        "48a2e143e2af4f22ba7ef3f8a2ca4855": {
          "model_module": "@jupyter-widgets/controls",
          "model_name": "DescriptionStyleModel",
          "model_module_version": "1.5.0",
          "state": {
            "_model_module": "@jupyter-widgets/controls",
            "_model_module_version": "1.5.0",
            "_model_name": "DescriptionStyleModel",
            "_view_count": null,
            "_view_module": "@jupyter-widgets/base",
            "_view_module_version": "1.2.0",
            "_view_name": "StyleView",
            "description_width": ""
          }
        },
        "80b7900053cd46978839766ed6cc53e1": {
          "model_module": "@jupyter-widgets/controls",
          "model_name": "HBoxModel",
          "model_module_version": "1.5.0",
          "state": {
            "_dom_classes": [],
            "_model_module": "@jupyter-widgets/controls",
            "_model_module_version": "1.5.0",
            "_model_name": "HBoxModel",
            "_view_count": null,
            "_view_module": "@jupyter-widgets/controls",
            "_view_module_version": "1.5.0",
            "_view_name": "HBoxView",
            "box_style": "",
            "children": [
              "IPY_MODEL_2d11c9b9ca3740e9a8238ec4711fd4e6",
              "IPY_MODEL_df7355e5cdd546d49bcb524f299c3edb",
              "IPY_MODEL_1a4c43f3ca9b4dfbb06fedcb8d55f1c5"
            ],
            "layout": "IPY_MODEL_90dfe74e0a9149aea3d38f6771595f40"
          }
        },
        "2d11c9b9ca3740e9a8238ec4711fd4e6": {
          "model_module": "@jupyter-widgets/controls",
          "model_name": "HTMLModel",
          "model_module_version": "1.5.0",
          "state": {
            "_dom_classes": [],
            "_model_module": "@jupyter-widgets/controls",
            "_model_module_version": "1.5.0",
            "_model_name": "HTMLModel",
            "_view_count": null,
            "_view_module": "@jupyter-widgets/controls",
            "_view_module_version": "1.5.0",
            "_view_name": "HTMLView",
            "description": "",
            "description_tooltip": null,
            "layout": "IPY_MODEL_178c6895c8d4437db2eb63e9b3bc86c2",
            "placeholder": "​",
            "style": "IPY_MODEL_16a97af902f64d7485be7a29e1e0d284",
            "value": " 15%"
          }
        },
        "df7355e5cdd546d49bcb524f299c3edb": {
          "model_module": "@jupyter-widgets/controls",
          "model_name": "FloatProgressModel",
          "model_module_version": "1.5.0",
          "state": {
            "_dom_classes": [],
            "_model_module": "@jupyter-widgets/controls",
            "_model_module_version": "1.5.0",
            "_model_name": "FloatProgressModel",
            "_view_count": null,
            "_view_module": "@jupyter-widgets/controls",
            "_view_module_version": "1.5.0",
            "_view_name": "ProgressView",
            "bar_style": "danger",
            "description": "",
            "description_tooltip": null,
            "layout": "IPY_MODEL_42ad572b1bb544fbbb2ad2c7d1d77744",
            "max": 439,
            "min": 0,
            "orientation": "horizontal",
            "style": "IPY_MODEL_bd25e5399d25402e9db06d214a9bd5c1",
            "value": 68
          }
        },
        "1a4c43f3ca9b4dfbb06fedcb8d55f1c5": {
          "model_module": "@jupyter-widgets/controls",
          "model_name": "HTMLModel",
          "model_module_version": "1.5.0",
          "state": {
            "_dom_classes": [],
            "_model_module": "@jupyter-widgets/controls",
            "_model_module_version": "1.5.0",
            "_model_name": "HTMLModel",
            "_view_count": null,
            "_view_module": "@jupyter-widgets/controls",
            "_view_module_version": "1.5.0",
            "_view_name": "HTMLView",
            "description": "",
            "description_tooltip": null,
            "layout": "IPY_MODEL_f9bc84faf4d04c529bc486c407034563",
            "placeholder": "​",
            "style": "IPY_MODEL_c161e2a0a75446f3a6c4a3279c36cafb",
            "value": " 68/439 [01:51&lt;14:07,  2.28s/it]"
          }
        },
        "90dfe74e0a9149aea3d38f6771595f40": {
          "model_module": "@jupyter-widgets/base",
          "model_name": "LayoutModel",
          "model_module_version": "1.2.0",
          "state": {
            "_model_module": "@jupyter-widgets/base",
            "_model_module_version": "1.2.0",
            "_model_name": "LayoutModel",
            "_view_count": null,
            "_view_module": "@jupyter-widgets/base",
            "_view_module_version": "1.2.0",
            "_view_name": "LayoutView",
            "align_content": null,
            "align_items": null,
            "align_self": null,
            "border": null,
            "bottom": null,
            "display": null,
            "flex": null,
            "flex_flow": null,
            "grid_area": null,
            "grid_auto_columns": null,
            "grid_auto_flow": null,
            "grid_auto_rows": null,
            "grid_column": null,
            "grid_gap": null,
            "grid_row": null,
            "grid_template_areas": null,
            "grid_template_columns": null,
            "grid_template_rows": null,
            "height": null,
            "justify_content": null,
            "justify_items": null,
            "left": null,
            "margin": null,
            "max_height": null,
            "max_width": null,
            "min_height": null,
            "min_width": null,
            "object_fit": null,
            "object_position": null,
            "order": null,
            "overflow": null,
            "overflow_x": null,
            "overflow_y": null,
            "padding": null,
            "right": null,
            "top": null,
            "visibility": null,
            "width": null
          }
        },
        "178c6895c8d4437db2eb63e9b3bc86c2": {
          "model_module": "@jupyter-widgets/base",
          "model_name": "LayoutModel",
          "model_module_version": "1.2.0",
          "state": {
            "_model_module": "@jupyter-widgets/base",
            "_model_module_version": "1.2.0",
            "_model_name": "LayoutModel",
            "_view_count": null,
            "_view_module": "@jupyter-widgets/base",
            "_view_module_version": "1.2.0",
            "_view_name": "LayoutView",
            "align_content": null,
            "align_items": null,
            "align_self": null,
            "border": null,
            "bottom": null,
            "display": null,
            "flex": null,
            "flex_flow": null,
            "grid_area": null,
            "grid_auto_columns": null,
            "grid_auto_flow": null,
            "grid_auto_rows": null,
            "grid_column": null,
            "grid_gap": null,
            "grid_row": null,
            "grid_template_areas": null,
            "grid_template_columns": null,
            "grid_template_rows": null,
            "height": null,
            "justify_content": null,
            "justify_items": null,
            "left": null,
            "margin": null,
            "max_height": null,
            "max_width": null,
            "min_height": null,
            "min_width": null,
            "object_fit": null,
            "object_position": null,
            "order": null,
            "overflow": null,
            "overflow_x": null,
            "overflow_y": null,
            "padding": null,
            "right": null,
            "top": null,
            "visibility": null,
            "width": null
          }
        },
        "16a97af902f64d7485be7a29e1e0d284": {
          "model_module": "@jupyter-widgets/controls",
          "model_name": "DescriptionStyleModel",
          "model_module_version": "1.5.0",
          "state": {
            "_model_module": "@jupyter-widgets/controls",
            "_model_module_version": "1.5.0",
            "_model_name": "DescriptionStyleModel",
            "_view_count": null,
            "_view_module": "@jupyter-widgets/base",
            "_view_module_version": "1.2.0",
            "_view_name": "StyleView",
            "description_width": ""
          }
        },
        "42ad572b1bb544fbbb2ad2c7d1d77744": {
          "model_module": "@jupyter-widgets/base",
          "model_name": "LayoutModel",
          "model_module_version": "1.2.0",
          "state": {
            "_model_module": "@jupyter-widgets/base",
            "_model_module_version": "1.2.0",
            "_model_name": "LayoutModel",
            "_view_count": null,
            "_view_module": "@jupyter-widgets/base",
            "_view_module_version": "1.2.0",
            "_view_name": "LayoutView",
            "align_content": null,
            "align_items": null,
            "align_self": null,
            "border": null,
            "bottom": null,
            "display": null,
            "flex": null,
            "flex_flow": null,
            "grid_area": null,
            "grid_auto_columns": null,
            "grid_auto_flow": null,
            "grid_auto_rows": null,
            "grid_column": null,
            "grid_gap": null,
            "grid_row": null,
            "grid_template_areas": null,
            "grid_template_columns": null,
            "grid_template_rows": null,
            "height": null,
            "justify_content": null,
            "justify_items": null,
            "left": null,
            "margin": null,
            "max_height": null,
            "max_width": null,
            "min_height": null,
            "min_width": null,
            "object_fit": null,
            "object_position": null,
            "order": null,
            "overflow": null,
            "overflow_x": null,
            "overflow_y": null,
            "padding": null,
            "right": null,
            "top": null,
            "visibility": null,
            "width": null
          }
        },
        "bd25e5399d25402e9db06d214a9bd5c1": {
          "model_module": "@jupyter-widgets/controls",
          "model_name": "ProgressStyleModel",
          "model_module_version": "1.5.0",
          "state": {
            "_model_module": "@jupyter-widgets/controls",
            "_model_module_version": "1.5.0",
            "_model_name": "ProgressStyleModel",
            "_view_count": null,
            "_view_module": "@jupyter-widgets/base",
            "_view_module_version": "1.2.0",
            "_view_name": "StyleView",
            "bar_color": null,
            "description_width": ""
          }
        },
        "f9bc84faf4d04c529bc486c407034563": {
          "model_module": "@jupyter-widgets/base",
          "model_name": "LayoutModel",
          "model_module_version": "1.2.0",
          "state": {
            "_model_module": "@jupyter-widgets/base",
            "_model_module_version": "1.2.0",
            "_model_name": "LayoutModel",
            "_view_count": null,
            "_view_module": "@jupyter-widgets/base",
            "_view_module_version": "1.2.0",
            "_view_name": "LayoutView",
            "align_content": null,
            "align_items": null,
            "align_self": null,
            "border": null,
            "bottom": null,
            "display": null,
            "flex": null,
            "flex_flow": null,
            "grid_area": null,
            "grid_auto_columns": null,
            "grid_auto_flow": null,
            "grid_auto_rows": null,
            "grid_column": null,
            "grid_gap": null,
            "grid_row": null,
            "grid_template_areas": null,
            "grid_template_columns": null,
            "grid_template_rows": null,
            "height": null,
            "justify_content": null,
            "justify_items": null,
            "left": null,
            "margin": null,
            "max_height": null,
            "max_width": null,
            "min_height": null,
            "min_width": null,
            "object_fit": null,
            "object_position": null,
            "order": null,
            "overflow": null,
            "overflow_x": null,
            "overflow_y": null,
            "padding": null,
            "right": null,
            "top": null,
            "visibility": null,
            "width": null
          }
        },
        "c161e2a0a75446f3a6c4a3279c36cafb": {
          "model_module": "@jupyter-widgets/controls",
          "model_name": "DescriptionStyleModel",
          "model_module_version": "1.5.0",
          "state": {
            "_model_module": "@jupyter-widgets/controls",
            "_model_module_version": "1.5.0",
            "_model_name": "DescriptionStyleModel",
            "_view_count": null,
            "_view_module": "@jupyter-widgets/base",
            "_view_module_version": "1.2.0",
            "_view_name": "StyleView",
            "description_width": ""
          }
        },
        "d0bada416d844855981b3ef7dbee5a36": {
          "model_module": "@jupyter-widgets/controls",
          "model_name": "HBoxModel",
          "model_module_version": "1.5.0",
          "state": {
            "_dom_classes": [],
            "_model_module": "@jupyter-widgets/controls",
            "_model_module_version": "1.5.0",
            "_model_name": "HBoxModel",
            "_view_count": null,
            "_view_module": "@jupyter-widgets/controls",
            "_view_module_version": "1.5.0",
            "_view_name": "HBoxView",
            "box_style": "",
            "children": [
              "IPY_MODEL_3470897233e84bcca634b2453773726a",
              "IPY_MODEL_dbb3f6d1e5c7493eaff2c8fa71564e18",
              "IPY_MODEL_37c7bf1f61ce419192f9d860d0651bec"
            ],
            "layout": "IPY_MODEL_ff46569bdbe542068079500c7c7b74de"
          }
        },
        "3470897233e84bcca634b2453773726a": {
          "model_module": "@jupyter-widgets/controls",
          "model_name": "HTMLModel",
          "model_module_version": "1.5.0",
          "state": {
            "_dom_classes": [],
            "_model_module": "@jupyter-widgets/controls",
            "_model_module_version": "1.5.0",
            "_model_name": "HTMLModel",
            "_view_count": null,
            "_view_module": "@jupyter-widgets/controls",
            "_view_module_version": "1.5.0",
            "_view_name": "HTMLView",
            "description": "",
            "description_tooltip": null,
            "layout": "IPY_MODEL_81944723b8b840de8296964059da61e9",
            "placeholder": "​",
            "style": "IPY_MODEL_9e45adca58e84c52a9cec1b36741e51f",
            "value": "  0%"
          }
        },
        "dbb3f6d1e5c7493eaff2c8fa71564e18": {
          "model_module": "@jupyter-widgets/controls",
          "model_name": "FloatProgressModel",
          "model_module_version": "1.5.0",
          "state": {
            "_dom_classes": [],
            "_model_module": "@jupyter-widgets/controls",
            "_model_module_version": "1.5.0",
            "_model_name": "FloatProgressModel",
            "_view_count": null,
            "_view_module": "@jupyter-widgets/controls",
            "_view_module_version": "1.5.0",
            "_view_name": "ProgressView",
            "bar_style": "danger",
            "description": "",
            "description_tooltip": null,
            "layout": "IPY_MODEL_9ed25fab32a4452dae95ebe59a8ce41d",
            "max": 5,
            "min": 0,
            "orientation": "horizontal",
            "style": "IPY_MODEL_0e3cdacc9c7e482b852680ef99648444",
            "value": 0
          }
        },
        "37c7bf1f61ce419192f9d860d0651bec": {
          "model_module": "@jupyter-widgets/controls",
          "model_name": "HTMLModel",
          "model_module_version": "1.5.0",
          "state": {
            "_dom_classes": [],
            "_model_module": "@jupyter-widgets/controls",
            "_model_module_version": "1.5.0",
            "_model_name": "HTMLModel",
            "_view_count": null,
            "_view_module": "@jupyter-widgets/controls",
            "_view_module_version": "1.5.0",
            "_view_name": "HTMLView",
            "description": "",
            "description_tooltip": null,
            "layout": "IPY_MODEL_551c5bcbf6c04a7b8ac79b2cd05b5a30",
            "placeholder": "​",
            "style": "IPY_MODEL_f2ef836a8d7348dfa0d2be379b09550c",
            "value": " 0/5 [01:33&lt;?, ?it/s]"
          }
        },
        "ff46569bdbe542068079500c7c7b74de": {
          "model_module": "@jupyter-widgets/base",
          "model_name": "LayoutModel",
          "model_module_version": "1.2.0",
          "state": {
            "_model_module": "@jupyter-widgets/base",
            "_model_module_version": "1.2.0",
            "_model_name": "LayoutModel",
            "_view_count": null,
            "_view_module": "@jupyter-widgets/base",
            "_view_module_version": "1.2.0",
            "_view_name": "LayoutView",
            "align_content": null,
            "align_items": null,
            "align_self": null,
            "border": null,
            "bottom": null,
            "display": null,
            "flex": null,
            "flex_flow": null,
            "grid_area": null,
            "grid_auto_columns": null,
            "grid_auto_flow": null,
            "grid_auto_rows": null,
            "grid_column": null,
            "grid_gap": null,
            "grid_row": null,
            "grid_template_areas": null,
            "grid_template_columns": null,
            "grid_template_rows": null,
            "height": null,
            "justify_content": null,
            "justify_items": null,
            "left": null,
            "margin": null,
            "max_height": null,
            "max_width": null,
            "min_height": null,
            "min_width": null,
            "object_fit": null,
            "object_position": null,
            "order": null,
            "overflow": null,
            "overflow_x": null,
            "overflow_y": null,
            "padding": null,
            "right": null,
            "top": null,
            "visibility": null,
            "width": null
          }
        },
        "81944723b8b840de8296964059da61e9": {
          "model_module": "@jupyter-widgets/base",
          "model_name": "LayoutModel",
          "model_module_version": "1.2.0",
          "state": {
            "_model_module": "@jupyter-widgets/base",
            "_model_module_version": "1.2.0",
            "_model_name": "LayoutModel",
            "_view_count": null,
            "_view_module": "@jupyter-widgets/base",
            "_view_module_version": "1.2.0",
            "_view_name": "LayoutView",
            "align_content": null,
            "align_items": null,
            "align_self": null,
            "border": null,
            "bottom": null,
            "display": null,
            "flex": null,
            "flex_flow": null,
            "grid_area": null,
            "grid_auto_columns": null,
            "grid_auto_flow": null,
            "grid_auto_rows": null,
            "grid_column": null,
            "grid_gap": null,
            "grid_row": null,
            "grid_template_areas": null,
            "grid_template_columns": null,
            "grid_template_rows": null,
            "height": null,
            "justify_content": null,
            "justify_items": null,
            "left": null,
            "margin": null,
            "max_height": null,
            "max_width": null,
            "min_height": null,
            "min_width": null,
            "object_fit": null,
            "object_position": null,
            "order": null,
            "overflow": null,
            "overflow_x": null,
            "overflow_y": null,
            "padding": null,
            "right": null,
            "top": null,
            "visibility": null,
            "width": null
          }
        },
        "9e45adca58e84c52a9cec1b36741e51f": {
          "model_module": "@jupyter-widgets/controls",
          "model_name": "DescriptionStyleModel",
          "model_module_version": "1.5.0",
          "state": {
            "_model_module": "@jupyter-widgets/controls",
            "_model_module_version": "1.5.0",
            "_model_name": "DescriptionStyleModel",
            "_view_count": null,
            "_view_module": "@jupyter-widgets/base",
            "_view_module_version": "1.2.0",
            "_view_name": "StyleView",
            "description_width": ""
          }
        },
        "9ed25fab32a4452dae95ebe59a8ce41d": {
          "model_module": "@jupyter-widgets/base",
          "model_name": "LayoutModel",
          "model_module_version": "1.2.0",
          "state": {
            "_model_module": "@jupyter-widgets/base",
            "_model_module_version": "1.2.0",
            "_model_name": "LayoutModel",
            "_view_count": null,
            "_view_module": "@jupyter-widgets/base",
            "_view_module_version": "1.2.0",
            "_view_name": "LayoutView",
            "align_content": null,
            "align_items": null,
            "align_self": null,
            "border": null,
            "bottom": null,
            "display": null,
            "flex": null,
            "flex_flow": null,
            "grid_area": null,
            "grid_auto_columns": null,
            "grid_auto_flow": null,
            "grid_auto_rows": null,
            "grid_column": null,
            "grid_gap": null,
            "grid_row": null,
            "grid_template_areas": null,
            "grid_template_columns": null,
            "grid_template_rows": null,
            "height": null,
            "justify_content": null,
            "justify_items": null,
            "left": null,
            "margin": null,
            "max_height": null,
            "max_width": null,
            "min_height": null,
            "min_width": null,
            "object_fit": null,
            "object_position": null,
            "order": null,
            "overflow": null,
            "overflow_x": null,
            "overflow_y": null,
            "padding": null,
            "right": null,
            "top": null,
            "visibility": null,
            "width": null
          }
        },
        "0e3cdacc9c7e482b852680ef99648444": {
          "model_module": "@jupyter-widgets/controls",
          "model_name": "ProgressStyleModel",
          "model_module_version": "1.5.0",
          "state": {
            "_model_module": "@jupyter-widgets/controls",
            "_model_module_version": "1.5.0",
            "_model_name": "ProgressStyleModel",
            "_view_count": null,
            "_view_module": "@jupyter-widgets/base",
            "_view_module_version": "1.2.0",
            "_view_name": "StyleView",
            "bar_color": null,
            "description_width": ""
          }
        },
        "551c5bcbf6c04a7b8ac79b2cd05b5a30": {
          "model_module": "@jupyter-widgets/base",
          "model_name": "LayoutModel",
          "model_module_version": "1.2.0",
          "state": {
            "_model_module": "@jupyter-widgets/base",
            "_model_module_version": "1.2.0",
            "_model_name": "LayoutModel",
            "_view_count": null,
            "_view_module": "@jupyter-widgets/base",
            "_view_module_version": "1.2.0",
            "_view_name": "LayoutView",
            "align_content": null,
            "align_items": null,
            "align_self": null,
            "border": null,
            "bottom": null,
            "display": null,
            "flex": null,
            "flex_flow": null,
            "grid_area": null,
            "grid_auto_columns": null,
            "grid_auto_flow": null,
            "grid_auto_rows": null,
            "grid_column": null,
            "grid_gap": null,
            "grid_row": null,
            "grid_template_areas": null,
            "grid_template_columns": null,
            "grid_template_rows": null,
            "height": null,
            "justify_content": null,
            "justify_items": null,
            "left": null,
            "margin": null,
            "max_height": null,
            "max_width": null,
            "min_height": null,
            "min_width": null,
            "object_fit": null,
            "object_position": null,
            "order": null,
            "overflow": null,
            "overflow_x": null,
            "overflow_y": null,
            "padding": null,
            "right": null,
            "top": null,
            "visibility": null,
            "width": null
          }
        },
        "f2ef836a8d7348dfa0d2be379b09550c": {
          "model_module": "@jupyter-widgets/controls",
          "model_name": "DescriptionStyleModel",
          "model_module_version": "1.5.0",
          "state": {
            "_model_module": "@jupyter-widgets/controls",
            "_model_module_version": "1.5.0",
            "_model_name": "DescriptionStyleModel",
            "_view_count": null,
            "_view_module": "@jupyter-widgets/base",
            "_view_module_version": "1.2.0",
            "_view_name": "StyleView",
            "description_width": ""
          }
        },
        "25814116ad624b3ebbd68a5adeb6960a": {
          "model_module": "@jupyter-widgets/controls",
          "model_name": "HBoxModel",
          "model_module_version": "1.5.0",
          "state": {
            "_dom_classes": [],
            "_model_module": "@jupyter-widgets/controls",
            "_model_module_version": "1.5.0",
            "_model_name": "HBoxModel",
            "_view_count": null,
            "_view_module": "@jupyter-widgets/controls",
            "_view_module_version": "1.5.0",
            "_view_name": "HBoxView",
            "box_style": "",
            "children": [
              "IPY_MODEL_4f578313d4b241c6bf223c98106e010a",
              "IPY_MODEL_0e3597fbb1f94059837176a57c53d85a",
              "IPY_MODEL_0a35e474e5d14840b5e5e87fc06da17d"
            ],
            "layout": "IPY_MODEL_b2856afc205e415b98ac36edac494ec8"
          }
        },
        "4f578313d4b241c6bf223c98106e010a": {
          "model_module": "@jupyter-widgets/controls",
          "model_name": "HTMLModel",
          "model_module_version": "1.5.0",
          "state": {
            "_dom_classes": [],
            "_model_module": "@jupyter-widgets/controls",
            "_model_module_version": "1.5.0",
            "_model_name": "HTMLModel",
            "_view_count": null,
            "_view_module": "@jupyter-widgets/controls",
            "_view_module_version": "1.5.0",
            "_view_name": "HTMLView",
            "description": "",
            "description_tooltip": null,
            "layout": "IPY_MODEL_8a7df7fb8462445ca4a5c97aa721944f",
            "placeholder": "​",
            "style": "IPY_MODEL_d4a33341d9f140dbb4433a0395d6b531",
            "value": "100%"
          }
        },
        "0e3597fbb1f94059837176a57c53d85a": {
          "model_module": "@jupyter-widgets/controls",
          "model_name": "FloatProgressModel",
          "model_module_version": "1.5.0",
          "state": {
            "_dom_classes": [],
            "_model_module": "@jupyter-widgets/controls",
            "_model_module_version": "1.5.0",
            "_model_name": "FloatProgressModel",
            "_view_count": null,
            "_view_module": "@jupyter-widgets/controls",
            "_view_module_version": "1.5.0",
            "_view_name": "ProgressView",
            "bar_style": "success",
            "description": "",
            "description_tooltip": null,
            "layout": "IPY_MODEL_d24fff04c25944cb917e37bd0112cd2f",
            "max": 439,
            "min": 0,
            "orientation": "horizontal",
            "style": "IPY_MODEL_7cb4e1bd3bd540b0bddbf931ff8dd8cd",
            "value": 439
          }
        },
        "0a35e474e5d14840b5e5e87fc06da17d": {
          "model_module": "@jupyter-widgets/controls",
          "model_name": "HTMLModel",
          "model_module_version": "1.5.0",
          "state": {
            "_dom_classes": [],
            "_model_module": "@jupyter-widgets/controls",
            "_model_module_version": "1.5.0",
            "_model_name": "HTMLModel",
            "_view_count": null,
            "_view_module": "@jupyter-widgets/controls",
            "_view_module_version": "1.5.0",
            "_view_name": "HTMLView",
            "description": "",
            "description_tooltip": null,
            "layout": "IPY_MODEL_3664b3e39c2b49ae80296926dad83c49",
            "placeholder": "​",
            "style": "IPY_MODEL_00ec4afaaacd4718b87c71598d72d621",
            "value": " 439/439 [01:33&lt;00:00,  5.81it/s]"
          }
        },
        "b2856afc205e415b98ac36edac494ec8": {
          "model_module": "@jupyter-widgets/base",
          "model_name": "LayoutModel",
          "model_module_version": "1.2.0",
          "state": {
            "_model_module": "@jupyter-widgets/base",
            "_model_module_version": "1.2.0",
            "_model_name": "LayoutModel",
            "_view_count": null,
            "_view_module": "@jupyter-widgets/base",
            "_view_module_version": "1.2.0",
            "_view_name": "LayoutView",
            "align_content": null,
            "align_items": null,
            "align_self": null,
            "border": null,
            "bottom": null,
            "display": null,
            "flex": null,
            "flex_flow": null,
            "grid_area": null,
            "grid_auto_columns": null,
            "grid_auto_flow": null,
            "grid_auto_rows": null,
            "grid_column": null,
            "grid_gap": null,
            "grid_row": null,
            "grid_template_areas": null,
            "grid_template_columns": null,
            "grid_template_rows": null,
            "height": null,
            "justify_content": null,
            "justify_items": null,
            "left": null,
            "margin": null,
            "max_height": null,
            "max_width": null,
            "min_height": null,
            "min_width": null,
            "object_fit": null,
            "object_position": null,
            "order": null,
            "overflow": null,
            "overflow_x": null,
            "overflow_y": null,
            "padding": null,
            "right": null,
            "top": null,
            "visibility": null,
            "width": null
          }
        },
        "8a7df7fb8462445ca4a5c97aa721944f": {
          "model_module": "@jupyter-widgets/base",
          "model_name": "LayoutModel",
          "model_module_version": "1.2.0",
          "state": {
            "_model_module": "@jupyter-widgets/base",
            "_model_module_version": "1.2.0",
            "_model_name": "LayoutModel",
            "_view_count": null,
            "_view_module": "@jupyter-widgets/base",
            "_view_module_version": "1.2.0",
            "_view_name": "LayoutView",
            "align_content": null,
            "align_items": null,
            "align_self": null,
            "border": null,
            "bottom": null,
            "display": null,
            "flex": null,
            "flex_flow": null,
            "grid_area": null,
            "grid_auto_columns": null,
            "grid_auto_flow": null,
            "grid_auto_rows": null,
            "grid_column": null,
            "grid_gap": null,
            "grid_row": null,
            "grid_template_areas": null,
            "grid_template_columns": null,
            "grid_template_rows": null,
            "height": null,
            "justify_content": null,
            "justify_items": null,
            "left": null,
            "margin": null,
            "max_height": null,
            "max_width": null,
            "min_height": null,
            "min_width": null,
            "object_fit": null,
            "object_position": null,
            "order": null,
            "overflow": null,
            "overflow_x": null,
            "overflow_y": null,
            "padding": null,
            "right": null,
            "top": null,
            "visibility": null,
            "width": null
          }
        },
        "d4a33341d9f140dbb4433a0395d6b531": {
          "model_module": "@jupyter-widgets/controls",
          "model_name": "DescriptionStyleModel",
          "model_module_version": "1.5.0",
          "state": {
            "_model_module": "@jupyter-widgets/controls",
            "_model_module_version": "1.5.0",
            "_model_name": "DescriptionStyleModel",
            "_view_count": null,
            "_view_module": "@jupyter-widgets/base",
            "_view_module_version": "1.2.0",
            "_view_name": "StyleView",
            "description_width": ""
          }
        },
        "d24fff04c25944cb917e37bd0112cd2f": {
          "model_module": "@jupyter-widgets/base",
          "model_name": "LayoutModel",
          "model_module_version": "1.2.0",
          "state": {
            "_model_module": "@jupyter-widgets/base",
            "_model_module_version": "1.2.0",
            "_model_name": "LayoutModel",
            "_view_count": null,
            "_view_module": "@jupyter-widgets/base",
            "_view_module_version": "1.2.0",
            "_view_name": "LayoutView",
            "align_content": null,
            "align_items": null,
            "align_self": null,
            "border": null,
            "bottom": null,
            "display": null,
            "flex": null,
            "flex_flow": null,
            "grid_area": null,
            "grid_auto_columns": null,
            "grid_auto_flow": null,
            "grid_auto_rows": null,
            "grid_column": null,
            "grid_gap": null,
            "grid_row": null,
            "grid_template_areas": null,
            "grid_template_columns": null,
            "grid_template_rows": null,
            "height": null,
            "justify_content": null,
            "justify_items": null,
            "left": null,
            "margin": null,
            "max_height": null,
            "max_width": null,
            "min_height": null,
            "min_width": null,
            "object_fit": null,
            "object_position": null,
            "order": null,
            "overflow": null,
            "overflow_x": null,
            "overflow_y": null,
            "padding": null,
            "right": null,
            "top": null,
            "visibility": null,
            "width": null
          }
        },
        "7cb4e1bd3bd540b0bddbf931ff8dd8cd": {
          "model_module": "@jupyter-widgets/controls",
          "model_name": "ProgressStyleModel",
          "model_module_version": "1.5.0",
          "state": {
            "_model_module": "@jupyter-widgets/controls",
            "_model_module_version": "1.5.0",
            "_model_name": "ProgressStyleModel",
            "_view_count": null,
            "_view_module": "@jupyter-widgets/base",
            "_view_module_version": "1.2.0",
            "_view_name": "StyleView",
            "bar_color": null,
            "description_width": ""
          }
        },
        "3664b3e39c2b49ae80296926dad83c49": {
          "model_module": "@jupyter-widgets/base",
          "model_name": "LayoutModel",
          "model_module_version": "1.2.0",
          "state": {
            "_model_module": "@jupyter-widgets/base",
            "_model_module_version": "1.2.0",
            "_model_name": "LayoutModel",
            "_view_count": null,
            "_view_module": "@jupyter-widgets/base",
            "_view_module_version": "1.2.0",
            "_view_name": "LayoutView",
            "align_content": null,
            "align_items": null,
            "align_self": null,
            "border": null,
            "bottom": null,
            "display": null,
            "flex": null,
            "flex_flow": null,
            "grid_area": null,
            "grid_auto_columns": null,
            "grid_auto_flow": null,
            "grid_auto_rows": null,
            "grid_column": null,
            "grid_gap": null,
            "grid_row": null,
            "grid_template_areas": null,
            "grid_template_columns": null,
            "grid_template_rows": null,
            "height": null,
            "justify_content": null,
            "justify_items": null,
            "left": null,
            "margin": null,
            "max_height": null,
            "max_width": null,
            "min_height": null,
            "min_width": null,
            "object_fit": null,
            "object_position": null,
            "order": null,
            "overflow": null,
            "overflow_x": null,
            "overflow_y": null,
            "padding": null,
            "right": null,
            "top": null,
            "visibility": null,
            "width": null
          }
        },
        "00ec4afaaacd4718b87c71598d72d621": {
          "model_module": "@jupyter-widgets/controls",
          "model_name": "DescriptionStyleModel",
          "model_module_version": "1.5.0",
          "state": {
            "_model_module": "@jupyter-widgets/controls",
            "_model_module_version": "1.5.0",
            "_model_name": "DescriptionStyleModel",
            "_view_count": null,
            "_view_module": "@jupyter-widgets/base",
            "_view_module_version": "1.2.0",
            "_view_name": "StyleView",
            "description_width": ""
          }
        },
        "244eb22ef95e466f9ba92b2d51866bf6": {
          "model_module": "@jupyter-widgets/controls",
          "model_name": "HBoxModel",
          "model_module_version": "1.5.0",
          "state": {
            "_dom_classes": [],
            "_model_module": "@jupyter-widgets/controls",
            "_model_module_version": "1.5.0",
            "_model_name": "HBoxModel",
            "_view_count": null,
            "_view_module": "@jupyter-widgets/controls",
            "_view_module_version": "1.5.0",
            "_view_name": "HBoxView",
            "box_style": "",
            "children": [
              "IPY_MODEL_1b143b72cc7e4887953063983da35d83",
              "IPY_MODEL_e3d077e4ebd94215a20294001ddd5020",
              "IPY_MODEL_42632b8ca58d48f2a88f787b9a86a9c3"
            ],
            "layout": "IPY_MODEL_7bfa35330a2c4000b0676192e52d5429"
          }
        },
        "1b143b72cc7e4887953063983da35d83": {
          "model_module": "@jupyter-widgets/controls",
          "model_name": "HTMLModel",
          "model_module_version": "1.5.0",
          "state": {
            "_dom_classes": [],
            "_model_module": "@jupyter-widgets/controls",
            "_model_module_version": "1.5.0",
            "_model_name": "HTMLModel",
            "_view_count": null,
            "_view_module": "@jupyter-widgets/controls",
            "_view_module_version": "1.5.0",
            "_view_name": "HTMLView",
            "description": "",
            "description_tooltip": null,
            "layout": "IPY_MODEL_2f3b631c5f23425b9695552176c90c85",
            "placeholder": "​",
            "style": "IPY_MODEL_5f7a87bab7974c6fbcbc6002b6f1c945",
            "value": "  0%"
          }
        },
        "e3d077e4ebd94215a20294001ddd5020": {
          "model_module": "@jupyter-widgets/controls",
          "model_name": "FloatProgressModel",
          "model_module_version": "1.5.0",
          "state": {
            "_dom_classes": [],
            "_model_module": "@jupyter-widgets/controls",
            "_model_module_version": "1.5.0",
            "_model_name": "FloatProgressModel",
            "_view_count": null,
            "_view_module": "@jupyter-widgets/controls",
            "_view_module_version": "1.5.0",
            "_view_name": "ProgressView",
            "bar_style": "danger",
            "description": "",
            "description_tooltip": null,
            "layout": "IPY_MODEL_5ef72f3f113a4a00a19c92adaae0598d",
            "max": 5,
            "min": 0,
            "orientation": "horizontal",
            "style": "IPY_MODEL_41907610ffd24e98a2b455010d17ad84",
            "value": 0
          }
        },
        "42632b8ca58d48f2a88f787b9a86a9c3": {
          "model_module": "@jupyter-widgets/controls",
          "model_name": "HTMLModel",
          "model_module_version": "1.5.0",
          "state": {
            "_dom_classes": [],
            "_model_module": "@jupyter-widgets/controls",
            "_model_module_version": "1.5.0",
            "_model_name": "HTMLModel",
            "_view_count": null,
            "_view_module": "@jupyter-widgets/controls",
            "_view_module_version": "1.5.0",
            "_view_name": "HTMLView",
            "description": "",
            "description_tooltip": null,
            "layout": "IPY_MODEL_75ca57b5382747b1823704fa8b5d17f0",
            "placeholder": "​",
            "style": "IPY_MODEL_a8721e846862460d885c51e21d059f81",
            "value": " 0/5 [07:08&lt;?, ?it/s]"
          }
        },
        "7bfa35330a2c4000b0676192e52d5429": {
          "model_module": "@jupyter-widgets/base",
          "model_name": "LayoutModel",
          "model_module_version": "1.2.0",
          "state": {
            "_model_module": "@jupyter-widgets/base",
            "_model_module_version": "1.2.0",
            "_model_name": "LayoutModel",
            "_view_count": null,
            "_view_module": "@jupyter-widgets/base",
            "_view_module_version": "1.2.0",
            "_view_name": "LayoutView",
            "align_content": null,
            "align_items": null,
            "align_self": null,
            "border": null,
            "bottom": null,
            "display": null,
            "flex": null,
            "flex_flow": null,
            "grid_area": null,
            "grid_auto_columns": null,
            "grid_auto_flow": null,
            "grid_auto_rows": null,
            "grid_column": null,
            "grid_gap": null,
            "grid_row": null,
            "grid_template_areas": null,
            "grid_template_columns": null,
            "grid_template_rows": null,
            "height": null,
            "justify_content": null,
            "justify_items": null,
            "left": null,
            "margin": null,
            "max_height": null,
            "max_width": null,
            "min_height": null,
            "min_width": null,
            "object_fit": null,
            "object_position": null,
            "order": null,
            "overflow": null,
            "overflow_x": null,
            "overflow_y": null,
            "padding": null,
            "right": null,
            "top": null,
            "visibility": null,
            "width": null
          }
        },
        "2f3b631c5f23425b9695552176c90c85": {
          "model_module": "@jupyter-widgets/base",
          "model_name": "LayoutModel",
          "model_module_version": "1.2.0",
          "state": {
            "_model_module": "@jupyter-widgets/base",
            "_model_module_version": "1.2.0",
            "_model_name": "LayoutModel",
            "_view_count": null,
            "_view_module": "@jupyter-widgets/base",
            "_view_module_version": "1.2.0",
            "_view_name": "LayoutView",
            "align_content": null,
            "align_items": null,
            "align_self": null,
            "border": null,
            "bottom": null,
            "display": null,
            "flex": null,
            "flex_flow": null,
            "grid_area": null,
            "grid_auto_columns": null,
            "grid_auto_flow": null,
            "grid_auto_rows": null,
            "grid_column": null,
            "grid_gap": null,
            "grid_row": null,
            "grid_template_areas": null,
            "grid_template_columns": null,
            "grid_template_rows": null,
            "height": null,
            "justify_content": null,
            "justify_items": null,
            "left": null,
            "margin": null,
            "max_height": null,
            "max_width": null,
            "min_height": null,
            "min_width": null,
            "object_fit": null,
            "object_position": null,
            "order": null,
            "overflow": null,
            "overflow_x": null,
            "overflow_y": null,
            "padding": null,
            "right": null,
            "top": null,
            "visibility": null,
            "width": null
          }
        },
        "5f7a87bab7974c6fbcbc6002b6f1c945": {
          "model_module": "@jupyter-widgets/controls",
          "model_name": "DescriptionStyleModel",
          "model_module_version": "1.5.0",
          "state": {
            "_model_module": "@jupyter-widgets/controls",
            "_model_module_version": "1.5.0",
            "_model_name": "DescriptionStyleModel",
            "_view_count": null,
            "_view_module": "@jupyter-widgets/base",
            "_view_module_version": "1.2.0",
            "_view_name": "StyleView",
            "description_width": ""
          }
        },
        "5ef72f3f113a4a00a19c92adaae0598d": {
          "model_module": "@jupyter-widgets/base",
          "model_name": "LayoutModel",
          "model_module_version": "1.2.0",
          "state": {
            "_model_module": "@jupyter-widgets/base",
            "_model_module_version": "1.2.0",
            "_model_name": "LayoutModel",
            "_view_count": null,
            "_view_module": "@jupyter-widgets/base",
            "_view_module_version": "1.2.0",
            "_view_name": "LayoutView",
            "align_content": null,
            "align_items": null,
            "align_self": null,
            "border": null,
            "bottom": null,
            "display": null,
            "flex": null,
            "flex_flow": null,
            "grid_area": null,
            "grid_auto_columns": null,
            "grid_auto_flow": null,
            "grid_auto_rows": null,
            "grid_column": null,
            "grid_gap": null,
            "grid_row": null,
            "grid_template_areas": null,
            "grid_template_columns": null,
            "grid_template_rows": null,
            "height": null,
            "justify_content": null,
            "justify_items": null,
            "left": null,
            "margin": null,
            "max_height": null,
            "max_width": null,
            "min_height": null,
            "min_width": null,
            "object_fit": null,
            "object_position": null,
            "order": null,
            "overflow": null,
            "overflow_x": null,
            "overflow_y": null,
            "padding": null,
            "right": null,
            "top": null,
            "visibility": null,
            "width": null
          }
        },
        "41907610ffd24e98a2b455010d17ad84": {
          "model_module": "@jupyter-widgets/controls",
          "model_name": "ProgressStyleModel",
          "model_module_version": "1.5.0",
          "state": {
            "_model_module": "@jupyter-widgets/controls",
            "_model_module_version": "1.5.0",
            "_model_name": "ProgressStyleModel",
            "_view_count": null,
            "_view_module": "@jupyter-widgets/base",
            "_view_module_version": "1.2.0",
            "_view_name": "StyleView",
            "bar_color": null,
            "description_width": ""
          }
        },
        "75ca57b5382747b1823704fa8b5d17f0": {
          "model_module": "@jupyter-widgets/base",
          "model_name": "LayoutModel",
          "model_module_version": "1.2.0",
          "state": {
            "_model_module": "@jupyter-widgets/base",
            "_model_module_version": "1.2.0",
            "_model_name": "LayoutModel",
            "_view_count": null,
            "_view_module": "@jupyter-widgets/base",
            "_view_module_version": "1.2.0",
            "_view_name": "LayoutView",
            "align_content": null,
            "align_items": null,
            "align_self": null,
            "border": null,
            "bottom": null,
            "display": null,
            "flex": null,
            "flex_flow": null,
            "grid_area": null,
            "grid_auto_columns": null,
            "grid_auto_flow": null,
            "grid_auto_rows": null,
            "grid_column": null,
            "grid_gap": null,
            "grid_row": null,
            "grid_template_areas": null,
            "grid_template_columns": null,
            "grid_template_rows": null,
            "height": null,
            "justify_content": null,
            "justify_items": null,
            "left": null,
            "margin": null,
            "max_height": null,
            "max_width": null,
            "min_height": null,
            "min_width": null,
            "object_fit": null,
            "object_position": null,
            "order": null,
            "overflow": null,
            "overflow_x": null,
            "overflow_y": null,
            "padding": null,
            "right": null,
            "top": null,
            "visibility": null,
            "width": null
          }
        },
        "a8721e846862460d885c51e21d059f81": {
          "model_module": "@jupyter-widgets/controls",
          "model_name": "DescriptionStyleModel",
          "model_module_version": "1.5.0",
          "state": {
            "_model_module": "@jupyter-widgets/controls",
            "_model_module_version": "1.5.0",
            "_model_name": "DescriptionStyleModel",
            "_view_count": null,
            "_view_module": "@jupyter-widgets/base",
            "_view_module_version": "1.2.0",
            "_view_name": "StyleView",
            "description_width": ""
          }
        },
        "edbbeda3678f4c98a2e5370ddf9a0d46": {
          "model_module": "@jupyter-widgets/controls",
          "model_name": "HBoxModel",
          "model_module_version": "1.5.0",
          "state": {
            "_dom_classes": [],
            "_model_module": "@jupyter-widgets/controls",
            "_model_module_version": "1.5.0",
            "_model_name": "HBoxModel",
            "_view_count": null,
            "_view_module": "@jupyter-widgets/controls",
            "_view_module_version": "1.5.0",
            "_view_name": "HBoxView",
            "box_style": "",
            "children": [
              "IPY_MODEL_2b31c8c3034c4ab1a5c655914a966f21",
              "IPY_MODEL_35c445f405bc4cc6ae2d1385fc4c3c01",
              "IPY_MODEL_60a6fc50b43d48cea1aee47556129fc7"
            ],
            "layout": "IPY_MODEL_82c1dabf2f814c92924e8bd518426168"
          }
        },
        "2b31c8c3034c4ab1a5c655914a966f21": {
          "model_module": "@jupyter-widgets/controls",
          "model_name": "HTMLModel",
          "model_module_version": "1.5.0",
          "state": {
            "_dom_classes": [],
            "_model_module": "@jupyter-widgets/controls",
            "_model_module_version": "1.5.0",
            "_model_name": "HTMLModel",
            "_view_count": null,
            "_view_module": "@jupyter-widgets/controls",
            "_view_module_version": "1.5.0",
            "_view_name": "HTMLView",
            "description": "",
            "description_tooltip": null,
            "layout": "IPY_MODEL_d18d016671db4bf7aafba2cbc50762c1",
            "placeholder": "​",
            "style": "IPY_MODEL_052161e667854d90a84a19d4c8d58b24",
            "value": " 63%"
          }
        },
        "35c445f405bc4cc6ae2d1385fc4c3c01": {
          "model_module": "@jupyter-widgets/controls",
          "model_name": "FloatProgressModel",
          "model_module_version": "1.5.0",
          "state": {
            "_dom_classes": [],
            "_model_module": "@jupyter-widgets/controls",
            "_model_module_version": "1.5.0",
            "_model_name": "FloatProgressModel",
            "_view_count": null,
            "_view_module": "@jupyter-widgets/controls",
            "_view_module_version": "1.5.0",
            "_view_name": "ProgressView",
            "bar_style": "danger",
            "description": "",
            "description_tooltip": null,
            "layout": "IPY_MODEL_31ed4fe5b03544428358faa804044460",
            "max": 439,
            "min": 0,
            "orientation": "horizontal",
            "style": "IPY_MODEL_4a0e4c2650934ca1b87ba0235ba9f9d1",
            "value": 275
          }
        },
        "60a6fc50b43d48cea1aee47556129fc7": {
          "model_module": "@jupyter-widgets/controls",
          "model_name": "HTMLModel",
          "model_module_version": "1.5.0",
          "state": {
            "_dom_classes": [],
            "_model_module": "@jupyter-widgets/controls",
            "_model_module_version": "1.5.0",
            "_model_name": "HTMLModel",
            "_view_count": null,
            "_view_module": "@jupyter-widgets/controls",
            "_view_module_version": "1.5.0",
            "_view_name": "HTMLView",
            "description": "",
            "description_tooltip": null,
            "layout": "IPY_MODEL_4fb5a805e38445879777327b7308783d",
            "placeholder": "​",
            "style": "IPY_MODEL_b038c26540d8467b8187fe70eef26593",
            "value": " 275/439 [07:08&lt;03:49,  1.40s/it]"
          }
        },
        "82c1dabf2f814c92924e8bd518426168": {
          "model_module": "@jupyter-widgets/base",
          "model_name": "LayoutModel",
          "model_module_version": "1.2.0",
          "state": {
            "_model_module": "@jupyter-widgets/base",
            "_model_module_version": "1.2.0",
            "_model_name": "LayoutModel",
            "_view_count": null,
            "_view_module": "@jupyter-widgets/base",
            "_view_module_version": "1.2.0",
            "_view_name": "LayoutView",
            "align_content": null,
            "align_items": null,
            "align_self": null,
            "border": null,
            "bottom": null,
            "display": null,
            "flex": null,
            "flex_flow": null,
            "grid_area": null,
            "grid_auto_columns": null,
            "grid_auto_flow": null,
            "grid_auto_rows": null,
            "grid_column": null,
            "grid_gap": null,
            "grid_row": null,
            "grid_template_areas": null,
            "grid_template_columns": null,
            "grid_template_rows": null,
            "height": null,
            "justify_content": null,
            "justify_items": null,
            "left": null,
            "margin": null,
            "max_height": null,
            "max_width": null,
            "min_height": null,
            "min_width": null,
            "object_fit": null,
            "object_position": null,
            "order": null,
            "overflow": null,
            "overflow_x": null,
            "overflow_y": null,
            "padding": null,
            "right": null,
            "top": null,
            "visibility": null,
            "width": null
          }
        },
        "d18d016671db4bf7aafba2cbc50762c1": {
          "model_module": "@jupyter-widgets/base",
          "model_name": "LayoutModel",
          "model_module_version": "1.2.0",
          "state": {
            "_model_module": "@jupyter-widgets/base",
            "_model_module_version": "1.2.0",
            "_model_name": "LayoutModel",
            "_view_count": null,
            "_view_module": "@jupyter-widgets/base",
            "_view_module_version": "1.2.0",
            "_view_name": "LayoutView",
            "align_content": null,
            "align_items": null,
            "align_self": null,
            "border": null,
            "bottom": null,
            "display": null,
            "flex": null,
            "flex_flow": null,
            "grid_area": null,
            "grid_auto_columns": null,
            "grid_auto_flow": null,
            "grid_auto_rows": null,
            "grid_column": null,
            "grid_gap": null,
            "grid_row": null,
            "grid_template_areas": null,
            "grid_template_columns": null,
            "grid_template_rows": null,
            "height": null,
            "justify_content": null,
            "justify_items": null,
            "left": null,
            "margin": null,
            "max_height": null,
            "max_width": null,
            "min_height": null,
            "min_width": null,
            "object_fit": null,
            "object_position": null,
            "order": null,
            "overflow": null,
            "overflow_x": null,
            "overflow_y": null,
            "padding": null,
            "right": null,
            "top": null,
            "visibility": null,
            "width": null
          }
        },
        "052161e667854d90a84a19d4c8d58b24": {
          "model_module": "@jupyter-widgets/controls",
          "model_name": "DescriptionStyleModel",
          "model_module_version": "1.5.0",
          "state": {
            "_model_module": "@jupyter-widgets/controls",
            "_model_module_version": "1.5.0",
            "_model_name": "DescriptionStyleModel",
            "_view_count": null,
            "_view_module": "@jupyter-widgets/base",
            "_view_module_version": "1.2.0",
            "_view_name": "StyleView",
            "description_width": ""
          }
        },
        "31ed4fe5b03544428358faa804044460": {
          "model_module": "@jupyter-widgets/base",
          "model_name": "LayoutModel",
          "model_module_version": "1.2.0",
          "state": {
            "_model_module": "@jupyter-widgets/base",
            "_model_module_version": "1.2.0",
            "_model_name": "LayoutModel",
            "_view_count": null,
            "_view_module": "@jupyter-widgets/base",
            "_view_module_version": "1.2.0",
            "_view_name": "LayoutView",
            "align_content": null,
            "align_items": null,
            "align_self": null,
            "border": null,
            "bottom": null,
            "display": null,
            "flex": null,
            "flex_flow": null,
            "grid_area": null,
            "grid_auto_columns": null,
            "grid_auto_flow": null,
            "grid_auto_rows": null,
            "grid_column": null,
            "grid_gap": null,
            "grid_row": null,
            "grid_template_areas": null,
            "grid_template_columns": null,
            "grid_template_rows": null,
            "height": null,
            "justify_content": null,
            "justify_items": null,
            "left": null,
            "margin": null,
            "max_height": null,
            "max_width": null,
            "min_height": null,
            "min_width": null,
            "object_fit": null,
            "object_position": null,
            "order": null,
            "overflow": null,
            "overflow_x": null,
            "overflow_y": null,
            "padding": null,
            "right": null,
            "top": null,
            "visibility": null,
            "width": null
          }
        },
        "4a0e4c2650934ca1b87ba0235ba9f9d1": {
          "model_module": "@jupyter-widgets/controls",
          "model_name": "ProgressStyleModel",
          "model_module_version": "1.5.0",
          "state": {
            "_model_module": "@jupyter-widgets/controls",
            "_model_module_version": "1.5.0",
            "_model_name": "ProgressStyleModel",
            "_view_count": null,
            "_view_module": "@jupyter-widgets/base",
            "_view_module_version": "1.2.0",
            "_view_name": "StyleView",
            "bar_color": null,
            "description_width": ""
          }
        },
        "4fb5a805e38445879777327b7308783d": {
          "model_module": "@jupyter-widgets/base",
          "model_name": "LayoutModel",
          "model_module_version": "1.2.0",
          "state": {
            "_model_module": "@jupyter-widgets/base",
            "_model_module_version": "1.2.0",
            "_model_name": "LayoutModel",
            "_view_count": null,
            "_view_module": "@jupyter-widgets/base",
            "_view_module_version": "1.2.0",
            "_view_name": "LayoutView",
            "align_content": null,
            "align_items": null,
            "align_self": null,
            "border": null,
            "bottom": null,
            "display": null,
            "flex": null,
            "flex_flow": null,
            "grid_area": null,
            "grid_auto_columns": null,
            "grid_auto_flow": null,
            "grid_auto_rows": null,
            "grid_column": null,
            "grid_gap": null,
            "grid_row": null,
            "grid_template_areas": null,
            "grid_template_columns": null,
            "grid_template_rows": null,
            "height": null,
            "justify_content": null,
            "justify_items": null,
            "left": null,
            "margin": null,
            "max_height": null,
            "max_width": null,
            "min_height": null,
            "min_width": null,
            "object_fit": null,
            "object_position": null,
            "order": null,
            "overflow": null,
            "overflow_x": null,
            "overflow_y": null,
            "padding": null,
            "right": null,
            "top": null,
            "visibility": null,
            "width": null
          }
        },
        "b038c26540d8467b8187fe70eef26593": {
          "model_module": "@jupyter-widgets/controls",
          "model_name": "DescriptionStyleModel",
          "model_module_version": "1.5.0",
          "state": {
            "_model_module": "@jupyter-widgets/controls",
            "_model_module_version": "1.5.0",
            "_model_name": "DescriptionStyleModel",
            "_view_count": null,
            "_view_module": "@jupyter-widgets/base",
            "_view_module_version": "1.2.0",
            "_view_name": "StyleView",
            "description_width": ""
          }
        }
      }
    }
  },
  "nbformat": 4,
  "nbformat_minor": 0
}